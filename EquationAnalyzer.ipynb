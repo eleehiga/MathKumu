{
 "cells": [
  {
   "cell_type": "code",
   "execution_count": null,
   "metadata": {},
   "outputs": [],
   "source": [
    "f = IntProgress(min=0, max=len(listdir('testsymbols')))\n",
    "display(f)\n",
    "test_images = list()\n",
    "for filename in listdir('testsymbols/'):\n",
    "    f.value +=1\n",
    "    img_data = cv2.imread('testsymbols/'+ filename)"
   ]
  }
 ],
 "metadata": {
  "kernelspec": {
   "display_name": "Python 3",
   "language": "python",
   "name": "python3"
  },
  "language_info": {
   "codemirror_mode": {
    "name": "ipython",
    "version": 3
   },
   "file_extension": ".py",
   "mimetype": "text/x-python",
   "name": "python",
   "nbconvert_exporter": "python",
   "pygments_lexer": "ipython3",
   "version": "3.7.7"
  }
 },
 "nbformat": 4,
 "nbformat_minor": 4
}
