{
 "cells": [
  {
   "cell_type": "code",
   "execution_count": 117,
   "metadata": {},
   "outputs": [
    {
     "data": {
      "application/vnd.jupyter.widget-view+json": {
       "model_id": "62dc15be0979489cac103fca9ff742f7",
       "version_major": 2,
       "version_minor": 0
      },
      "text/plain": [
       "IntProgress(value=0, max=12)"
      ]
     },
     "metadata": {},
     "output_type": "display_data"
    },
    {
     "name": "stdout",
     "output_type": "stream",
     "text": [
      "[[0, 0], [0, 0], [0, 0], [0, 0], [0, 0], [0, 0], [0, 0], [0, 0], [0, 0], [0, 0], [0, 0], [0, 0]]\n",
      "[3, 7, 10, 14, 16]\n",
      "231\n",
      "289\n",
      "62\n",
      "128\n",
      "5\n",
      "262\n",
      "353\n",
      "231_289_62_128_5.png\n",
      "[]\n",
      "0\n",
      "[3, 7, 10, 14, 16]\n",
      "236\n",
      "474\n",
      "84\n",
      "144\n",
      "6\n",
      "278\n",
      "546\n",
      "236_474_84_144_6.png\n",
      "[]\n",
      "0\n",
      "[3, 7, 10, 14, 16]\n",
      "251\n",
      "131\n",
      "16\n",
      "116\n",
      "1\n",
      "259\n",
      "189\n",
      "251_131_16_116_1.png\n",
      "[]\n",
      "0\n",
      "[3, 7, 10, 14, 16]\n",
      "372\n",
      "126\n",
      "96\n",
      "139\n",
      "2\n",
      "420\n",
      "195\n",
      "372_126_96_139_2.png\n",
      "[]\n",
      "0\n",
      "[3, 7, 10, 14, 16]\n",
      "378\n",
      "286\n",
      "63\n",
      "128\n",
      "6\n",
      "409\n",
      "350\n",
      "378_286_63_128_6.png\n",
      "[]\n",
      "0\n",
      "[3, 5, 8, 11, 13]\n",
      "406\n",
      "7\n",
      "13\n",
      "67\n",
      "1\n",
      "412\n",
      "40\n",
      "406_7_13_67_1.png\n",
      "[]\n",
      "0\n",
      "[3, 7, 10, 14, 16]\n",
      "407\n",
      "472\n",
      "61\n",
      "140\n",
      "8\n",
      "437\n",
      "542\n",
      "407_472_61_140_8.png\n",
      "[]\n",
      "0\n",
      "[3, 7, 11, 15, 17]\n",
      "548\n",
      "269\n",
      "121\n",
      "126\n",
      "7\n",
      "608\n",
      "332\n",
      "548_269_121_126_7.png\n",
      "[]\n",
      "0\n",
      "[3, 7, 10, 14, 16]\n",
      "551\n",
      "132\n",
      "66\n",
      "127\n",
      "3\n",
      "584\n",
      "195\n",
      "551_132_66_127_3.png\n",
      "[]\n",
      "0\n",
      "[3, 7, 10, 14, 16]\n",
      "594\n",
      "478\n",
      "76\n",
      "127\n",
      "0\n",
      "632\n",
      "541\n",
      "594_478_76_127_0.png\n",
      "[]\n",
      "0\n",
      "[2, 6, 10, 13, 15]\n",
      "70\n",
      "428\n",
      "673\n",
      "45\n",
      "-\n",
      "406\n",
      "450\n",
      "70_428_673_45_-.png\n",
      "[[406, 450, '-']]\n",
      "1\n",
      "[2, 6, 9, 13, 18]\n",
      "81\n",
      "312\n",
      "71\n",
      "109\n",
      "plus\n",
      "116\n",
      "366\n",
      "81_312_71_109_plus.png\n",
      "[[406, 450, '-'], [116, 366, 'plus']]\n",
      "2\n",
      "[[262, 353, '5'], [278, 546, '6'], [259, 189, '1'], [420, 195, '2'], [409, 350, '6'], [412, 40, '1'], [437, 542, '8'], [608, 332, '7'], [584, 195, '3'], [632, 541, '0'], [406, 450, '-'], [116, 366, 'plus']]\n"
     ]
    }
   ],
   "source": [
    "# info in one array\n",
    "from PIL import Image\n",
    "from os import listdir\n",
    "from matplotlib import image\n",
    "from matplotlib import pyplot\n",
    "import tensorflow as tf\n",
    "from ipywidgets import IntProgress\n",
    "from IPython.display import display\n",
    "import winsound\n",
    "import cv2\n",
    "import numpy as np\n",
    "import os\n",
    "\n",
    "f = IntProgress(min=0, max=len(listdir('symbolsforanalyzer')))\n",
    "display(f)\n",
    "characters = []\n",
    "for i in range(len(listdir('symbolsforanalyzer'))):\n",
    "    characters.append([0] * 2)\n",
    "print(characters)\n",
    "\n",
    "symbols_num = 0\n",
    "symbols = list()\n",
    "\n",
    "# filename format x y (top left corner) then x y size\n",
    "for i in range(0,len(listdir('symbolsforanalyzer/'))):\n",
    "    f.value +=1\n",
    "    _location = list()\n",
    "    j = 0\n",
    "    filename = listdir('symbolsforanalyzer/')[i]\n",
    "    for symbol in filename:\n",
    "        if symbol == '_' or symbol == '.':\n",
    "            _location.append(j)\n",
    "        j += 1\n",
    "    print(_location)\n",
    "    x_left = int(filename[0:_location[0]])\n",
    "    # when do [#:#] the last # is not included in there y_up\n",
    "    print(x_left)\n",
    "    y_up = int(filename[_location[0]+1:_location[1]])\n",
    "    print(y_up)\n",
    "    x_size = int(filename[_location[1]+1:_location[2]])\n",
    "    print(x_size)\n",
    "    y_size = int(filename[_location[2]+1:_location[3]])\n",
    "    print(y_size)\n",
    "    #img_label.append(filename[_location[3]+1:_location[4]])\n",
    "    characters[i].append(filename[_location[3]+1:_location[4]])\n",
    "    print(filename[_location[3]+1:_location[4]])\n",
    "    #img_x.append(int(x_left+x_size / 2))\n",
    "    characters[i][0] = int(x_left+x_size / 2)\n",
    "    print(int(x_left+x_size / 2))\n",
    "    #img_y.append(int(y_up+y_size / 2))\n",
    "    characters[i][1] = int(y_up+y_size / 2)\n",
    "    \n",
    "    if characters[i][2] in ['plus', 'times', '-']:\n",
    "        symbols_num += 1\n",
    "        symbols.append(character[i])\n",
    "    print(int(y_up+y_size / 2))\n",
    "    print(filename)\n",
    "    print(symbols)\n",
    "    print(symbols_num)\n",
    "\n",
    "print(characters)\n",
    "#print(type(characters))    "
   ]
  },
  {
   "cell_type": "code",
   "execution_count": 118,
   "metadata": {},
   "outputs": [
    {
     "data": {
      "image/png": "[encoded data removed]",
      "text/plain": [
       "<Figure size 432x288 with 1 Axes>"
      ]
     },
     "metadata": {
      "needs_background": "light"
     },
     "output_type": "display_data"
    }
   ],
   "source": [
    "test_img = cv2.imread('testequations/testequation5.png')\n",
    "pyplot.imshow(test_img)\n",
    "pyplot.show()"
   ]
  },
  {
   "cell_type": "code",
   "execution_count": 119,
   "metadata": {},
   "outputs": [
    {
     "name": "stdout",
     "output_type": "stream",
     "text": [
      "[[116, 366, 'plus'], [406, 450, '-']]\n",
      "[[406, 450, '-']]\n",
      "[[116, 366, 'plus']]\n"
     ]
    }
   ],
   "source": [
    "def getYFromChar(item):\n",
    "    return item[1]\n",
    "symbols.sort(key = getYFromChar)\n",
    "print(symbols)\n",
    "operators = list()\n",
    "operators.append(symbols[0])\n",
    "lines  = list()\n",
    "lines.append(symbols[1])\n",
    "print(lines)\n",
    "print(operators)"
   ]
  },
  {
   "cell_type": "code",
   "execution_count": 120,
   "metadata": {},
   "outputs": [
    {
     "name": "stdout",
     "output_type": "stream",
     "text": [
      "[[278, 546, '6'], [437, 542, '8'], [632, 541, '0'], [406, 450, '-'], [116, 366, 'plus'], [262, 353, '5'], [409, 350, '6'], [608, 332, '7'], [420, 195, '2'], [584, 195, '3'], [259, 189, '1'], [412, 40, '1']]\n",
      "[0 0 0 1 2 2 2 2 3 3 3 4]\n",
      "[[116, 366, 'plus'], [259, 189, '1'], [262, 353, '5'], [278, 546, '6'], [406, 450, '-'], [409, 350, '6'], [412, 40, '1'], [420, 195, '2'], [437, 542, '8'], [584, 195, '3'], [608, 332, '7'], [632, 541, '0']]\n",
      "[0 1 1 1 2 2 2 2 2 3 3 3]\n"
     ]
    }
   ],
   "source": [
    "# with big character list, organize into layers\n",
    "y_thresh = 20\n",
    "x_thresh = 30\n",
    "row = np.zeros(len(img_label), dtype=int)\n",
    "col = np.zeros(len(img_label), dtype=int)\n",
    "def getYFromChar(item):\n",
    "    return item[1]\n",
    "characters.sort(reverse = True, key = getYFromChar)\n",
    "print(characters)\n",
    "\n",
    "#compare next char to first, layer higher the layer number the more up it is\n",
    "for i in range(0,len(character)-1):\n",
    "    #print(characters[i + 1][1])\n",
    "    #print(characters[i][1]+y_thresh)\n",
    "    #print(characters[i][1]-y_thresh)\n",
    "    #print(characters[i][1])\n",
    "    #print((characters[i + 1][1] < characters[i][1] - y_thresh) and (character[i + 1][1] > character[i][1] - y_thresh))\n",
    "    if np.absolute(characters[i + 1][1] - characters[i][1]) < y_thresh:\n",
    "        row[i + 1] = row[i]\n",
    "    elif characters[i + 1][1] - characters[i][1] >= y_thresh:\n",
    "        row[i + 1] = row[i] - 1\n",
    "    elif characters[i + 1][1] - characters[i][1] <= y_thresh:\n",
    "        row[i + 1] = row[i] + 1\n",
    "print(row)\n",
    "\n",
    "def getXFromChar(item):\n",
    "    return item[0]\n",
    "characters.sort(reverse = False, key = getXFromChar)\n",
    "print(characters)\n",
    "for i in range(len(character)-1):\n",
    "    if np.absolute(characters[i + 1][0] - characters[i][0]) < x_thresh or (character[i + 1][0] == lines[0][0] and character[i + 1][1] == lines[0][1] and character[i + 1][2] == lines[0][2]):\n",
    "        col[i + 1] = col[i]\n",
    "    elif characters[i + 1][0] - characters[i][0] >= x_thresh:\n",
    "        col[i + 1] = col[i] + 1\n",
    "    elif characters[i + 1][0] - characters[i][0] <= x_thresh:\n",
    "        col[i + 1] = col[i] - 1\n",
    "print(col)"
   ]
  },
  {
   "cell_type": "code",
   "execution_count": 121,
   "metadata": {},
   "outputs": [
    {
     "name": "stdout",
     "output_type": "stream",
     "text": [
      "[[116, 366, 'plus', 2, 0], [259, 189, '1', 3, 1], [262, 353, '5', 2, 1], [278, 546, '6', 0, 1], [406, 450, '-', 1, 2], [409, 350, '6', 2, 2], [412, 40, '1', 4, 2], [420, 195, '2', 3, 2], [437, 542, '8', 0, 2], [584, 195, '3', 3, 3], [608, 332, '7', 2, 3], [632, 541, '0', 0, 3]]\n"
     ]
    }
   ],
   "source": [
    "i = 0\n",
    "characters.sort(reverse = True, key = getYFromChar)\n",
    "for r in row:\n",
    "    characters[i].append(r)\n",
    "    i += 1\n",
    "characters.sort(reverse = False, key = getXFromChar)\n",
    "i = 0\n",
    "for c in col:\n",
    "    characters[i].append(c)\n",
    "    i += 1\n",
    "# x, y, label, r, c in character\n",
    "print(characters)\n"
   ]
  },
  {
   "cell_type": "code",
   "execution_count": null,
   "metadata": {},
   "outputs": [],
   "source": [
    "#If addition\n"
   ]
  }
 ],
 "metadata": {
  "kernelspec": {
   "display_name": "Python 3",
   "language": "python",
   "name": "python3"
  },
  "language_info": {
   "codemirror_mode": {
    "name": "ipython",
    "version": 3
   },
   "file_extension": ".py",
   "mimetype": "text/x-python",
   "name": "python",
   "nbconvert_exporter": "python",
   "pygments_lexer": "ipython3",
   "version": "3.7.7"
  }
 },
 "nbformat": 4,
 "nbformat_minor": 4
}
