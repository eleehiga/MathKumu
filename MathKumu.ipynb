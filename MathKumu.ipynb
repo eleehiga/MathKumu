{
 "cells": [
  {
   "cell_type": "code",
   "execution_count": 1,
   "metadata": {
    "scrolled": true
   },
   "outputs": [
    {
     "data": {
      "application/vnd.jupyter.widget-view+json": {
       "model_id": "e36ce6741f834c9da95bd7c2b2629936",
       "version_major": 2,
       "version_minor": 0
      },
      "text/plain": [
       "IntProgress(value=0, max=6914)"
      ]
     },
     "metadata": {},
     "output_type": "display_data"
    },
    {
     "data": {
      "text/plain": [
       "'0'"
      ]
     },
     "metadata": {},
     "output_type": "display_data"
    },
    {
     "data": {
      "application/vnd.jupyter.widget-view+json": {
       "model_id": "fa5ef3937b584f728f686e94e1a3b10a",
       "version_major": 2,
       "version_minor": 0
      },
      "text/plain": [
       "IntProgress(value=0, max=26520)"
      ]
     },
     "metadata": {},
     "output_type": "display_data"
    },
    {
     "data": {
      "text/plain": [
       "'1'"
      ]
     },
     "metadata": {},
     "output_type": "display_data"
    },
    {
     "data": {
      "application/vnd.jupyter.widget-view+json": {
       "model_id": "0ddef84fc5ad4b1f9575e65f2513732f",
       "version_major": 2,
       "version_minor": 0
      },
      "text/plain": [
       "IntProgress(value=0, max=26141)"
      ]
     },
     "metadata": {},
     "output_type": "display_data"
    },
    {
     "data": {
      "text/plain": [
       "'2'"
      ]
     },
     "metadata": {},
     "output_type": "display_data"
    },
    {
     "data": {
      "application/vnd.jupyter.widget-view+json": {
       "model_id": "25261bae5d43425e901ed1094b5873e4",
       "version_major": 2,
       "version_minor": 0
      },
      "text/plain": [
       "IntProgress(value=0, max=10909)"
      ]
     },
     "metadata": {},
     "output_type": "display_data"
    },
    {
     "data": {
      "text/plain": [
       "'3'"
      ]
     },
     "metadata": {},
     "output_type": "display_data"
    },
    {
     "data": {
      "application/vnd.jupyter.widget-view+json": {
       "model_id": "a4b7c24eda7c4ed4b0fd02d1314117c4",
       "version_major": 2,
       "version_minor": 0
      },
      "text/plain": [
       "IntProgress(value=0, max=7396)"
      ]
     },
     "metadata": {},
     "output_type": "display_data"
    },
    {
     "data": {
      "text/plain": [
       "'4'"
      ]
     },
     "metadata": {},
     "output_type": "display_data"
    },
    {
     "data": {
      "application/vnd.jupyter.widget-view+json": {
       "model_id": "4973f888f05b4f55b669ade0d7b2bc94",
       "version_major": 2,
       "version_minor": 0
      },
      "text/plain": [
       "IntProgress(value=0, max=5315)"
      ]
     },
     "metadata": {},
     "output_type": "display_data"
    },
    {
     "data": {
      "text/plain": [
       "'5'"
      ]
     },
     "metadata": {},
     "output_type": "display_data"
    },
    {
     "data": {
      "application/vnd.jupyter.widget-view+json": {
       "model_id": "e25b325ced6841dca7517e4a94e070e8",
       "version_major": 2,
       "version_minor": 0
      },
      "text/plain": [
       "IntProgress(value=0, max=4093)"
      ]
     },
     "metadata": {},
     "output_type": "display_data"
    },
    {
     "data": {
      "text/plain": [
       "'6'"
      ]
     },
     "metadata": {},
     "output_type": "display_data"
    },
    {
     "data": {
      "application/vnd.jupyter.widget-view+json": {
       "model_id": "62c60075279d43af9d01cc5d5c6423bc",
       "version_major": 2,
       "version_minor": 0
      },
      "text/plain": [
       "IntProgress(value=0, max=3823)"
      ]
     },
     "metadata": {},
     "output_type": "display_data"
    },
    {
     "data": {
      "text/plain": [
       "'7'"
      ]
     },
     "metadata": {},
     "output_type": "display_data"
    },
    {
     "data": {
      "application/vnd.jupyter.widget-view+json": {
       "model_id": "20e5d05834ae4a00a61542bf30526598",
       "version_major": 2,
       "version_minor": 0
      },
      "text/plain": [
       "IntProgress(value=0, max=4456)"
      ]
     },
     "metadata": {},
     "output_type": "display_data"
    },
    {
     "data": {
      "text/plain": [
       "'8'"
      ]
     },
     "metadata": {},
     "output_type": "display_data"
    },
    {
     "data": {
      "application/vnd.jupyter.widget-view+json": {
       "model_id": "a4d5db28e0954df3b72ad2c343107cc5",
       "version_major": 2,
       "version_minor": 0
      },
      "text/plain": [
       "IntProgress(value=0, max=3737)"
      ]
     },
     "metadata": {},
     "output_type": "display_data"
    },
    {
     "data": {
      "text/plain": [
       "'9'"
      ]
     },
     "metadata": {},
     "output_type": "display_data"
    },
    {
     "data": {
      "application/vnd.jupyter.widget-view+json": {
       "model_id": "d65528875ef146ceb3920203ec9c2cf3",
       "version_major": 2,
       "version_minor": 0
      },
      "text/plain": [
       "IntProgress(value=0, max=25112)"
      ]
     },
     "metadata": {},
     "output_type": "display_data"
    },
    {
     "data": {
      "text/plain": [
       "'+'"
      ]
     },
     "metadata": {},
     "output_type": "display_data"
    },
    {
     "data": {
      "application/vnd.jupyter.widget-view+json": {
       "model_id": "eb30a10c4aaf4b48a878273c9b384c81",
       "version_major": 2,
       "version_minor": 0
      },
      "text/plain": [
       "IntProgress(value=0, max=33997)"
      ]
     },
     "metadata": {},
     "output_type": "display_data"
    },
    {
     "data": {
      "text/plain": [
       "'-'"
      ]
     },
     "metadata": {},
     "output_type": "display_data"
    },
    {
     "data": {
      "application/vnd.jupyter.widget-view+json": {
       "model_id": "de23ea8c4b9a4e14bfad72db9424b43a",
       "version_major": 2,
       "version_minor": 0
      },
      "text/plain": [
       "IntProgress(value=0, max=3251)"
      ]
     },
     "metadata": {},
     "output_type": "display_data"
    },
    {
     "data": {
      "text/plain": [
       "'times'"
      ]
     },
     "metadata": {},
     "output_type": "display_data"
    }
   ],
   "source": [
    "from PIL import Image\n",
    "from os import listdir\n",
    "from matplotlib import image\n",
    "from matplotlib import pyplot\n",
    "import tensorflow as tf\n",
    "from ipywidgets import IntProgress\n",
    "from IPython.display import display\n",
    "import winsound\n",
    "from sklearn.model_selection import train_test_split\n",
    "import numpy as np\n",
    "import cv2\n",
    "import pickle\n",
    "\n",
    "loaded_images = list() # will append values to list\n",
    "image_labels = list()\n",
    "math_symbols =  ['+','-','times']\n",
    "class_labels = ['0','1','2','3','4','5','6','7','8','9']+ math_symbols\n",
    "\n",
    "# 0 to 9 is 0 to 9, 10 and so on correspond with order in math symbols -> for labels\n",
    "for i in range(0,10): # range second number does not include number!!!!!!\n",
    "    f = IntProgress(min=0, max=len(listdir('handwrittenmathsymbols/'+str(i)))) # Progress bar\n",
    "    display(f)\n",
    "    display(str(i))\n",
    "    for filename in listdir('handwrittenmathsymbols/'+str(i)):\n",
    "        f.value +=1\n",
    "        img_data = image.imread('handwrittenmathsymbols/'+str(i)+'/' + filename)\n",
    "        loaded_images.append(img_data.astype('uint8'))\n",
    "        image_labels.append(i)\n",
    "        if((i == 1 or i ==2) and f.value % 2 == 0): # rids of half on ones and twos\n",
    "            loaded_images.pop()\n",
    "            image_labels.pop()\n",
    "        #print(i)\n",
    "        #pyplot.imshow(img_data)\n",
    "        #pyplot.show()\n",
    "j = 10\n",
    "for symbol in math_symbols:\n",
    "    f = IntProgress(min=0, max=len(listdir('handwrittenmathsymbols/'+symbol)))\n",
    "    display(f)\n",
    "    display(symbol)\n",
    "    for filename in listdir('handwrittenmathsymbols/'+symbol):\n",
    "        f.value +=1\n",
    "        img_data = image.imread('handwrittenmathsymbols/'+symbol+'/' + filename)\n",
    "        loaded_images.append(img_data.astype('uint8'))\n",
    "        image_labels.append(j)\n",
    "        if((j == 10 and f.value % 2 == 0) or (j == 11 and (f.value % 2 == 0 or f.value % 3 == 0))):\n",
    "            loaded_images.pop()\n",
    "            image_labels.pop()\n",
    "        #print(symbol)\n",
    "        #pyplot.imshow(img_data)\n",
    "        #pyplot.show()\n",
    "    j += 1\n",
    "    \n",
    "pickle.dump(loaded_images, open('loaded_images.p', 'wb'))\n",
    "pickle.dump(image_labels, open('image_labels.p', 'wb'))\n",
    "# Alarm\n",
    "duration = 2000  # milliseconds\n",
    "freq = 440  # Hz\n",
    "winsound.Beep(freq, duration)"
   ]
  },
  {
   "cell_type": "code",
   "execution_count": 2,
   "metadata": {},
   "outputs": [
    {
     "data": {
      "text/plain": [
       "(array([ 6914., 13260., 13071., 10909.,  7396.,  5315.,  4093.,  3823.,\n",
       "         4456.,  3737., 12556., 11333.,  3251.]),\n",
       " array([ 0.        ,  0.92307692,  1.84615385,  2.76923077,  3.69230769,\n",
       "         4.61538462,  5.53846154,  6.46153846,  7.38461538,  8.30769231,\n",
       "         9.23076923, 10.15384615, 11.07692308, 12.        ]),\n",
       " <a list of 13 Patch objects>)"
      ]
     },
     "execution_count": 2,
     "metadata": {},
     "output_type": "execute_result"
    },
    {
     "data": {
      "image/png": "[encoded data removed]",
      "text/plain": [
       "<Figure size 432x288 with 1 Axes>"
      ]
     },
     "metadata": {
      "needs_background": "light"
     },
     "output_type": "display_data"
    }
   ],
   "source": [
    "# this block removes some 1,2,+,-, times\n",
    "#1: 15000\n",
    "#2: 15000\n",
    "#+: 15000\n",
    "#-: 22000\n",
    "#times: 4000\n",
    "#print(img_data.shape)\n",
    "#print(image_labels.shape)\n",
    "#loaded_img = list()\n",
    "\n",
    "#for i in range(0,len(image_labels)):\n",
    "#    if int(image_labels[i]) == 7:\n",
    "#        print(str(loaded_images[i].shape))\n",
    "\n",
    "#for img in loaded_images:\n",
    "#    loaded_img.append(img.astype('uint8'))\n",
    "\n",
    "pyplot.hist(image_labels, bins=13, histtype='bar', rwidth=.8)\n"
   ]
  },
  {
   "cell_type": "code",
   "execution_count": 31,
   "metadata": {},
   "outputs": [],
   "source": [
    "for i in range(0,len(image_labels)):\n",
    "    #if int(image_labels[i]) == 7 and str(loaded_img[i].dtype) != 'uint8':\n",
    "    if str(loaded_img[i].dtype) != 'uint8':\n",
    "        print(str(loaded_img[i].dtype))\n",
    "#print(loaded_images.dtype)"
   ]
  },
  {
   "cell_type": "code",
   "execution_count": 3,
   "metadata": {},
   "outputs": [
    {
     "data": {
      "application/vnd.jupyter.widget-view+json": {
       "model_id": "48a8ff36f2a8401fada4c375da515741",
       "version_major": 2,
       "version_minor": 0
      },
      "text/plain": [
       "IntProgress(value=0, max=5)"
      ]
     },
     "metadata": {},
     "output_type": "display_data"
    }
   ],
   "source": [
    "'''\n",
    "from PIL import Image\n",
    "from os import listdir\n",
    "#from matplotlib import image\n",
    "#from matplotlib import pyplot\n",
    "import tensorflow as tf\n",
    "from ipywidgets import IntProgress\n",
    "from IPython.display import display\n",
    "import winsound\n",
    "from sklearn.model_selection import train_test_split\n",
    "import numpy as np\n",
    "import cv2\n",
    "import pickle\n",
    "\n",
    "print(tf.__version__)\n",
    "from tensorflow import keras\n",
    "'''\n",
    "import tensorflow as tf\n",
    "from ipywidgets import IntProgress\n",
    "from sklearn.model_selection import train_test_split\n",
    "\n",
    "f = IntProgress(min=0, max=5)\n",
    "display(f)\n",
    "\n",
    "loaded_img = list()\n",
    "for img in loaded_images:\n",
    "    if img.ndim == 3:\n",
    "        loaded_img.append(img[:,:,0]) # remove rgb channel\n",
    "    else:\n",
    "        loaded_img.append(img)\n",
    "\n",
    "X_train, X_test, y_train, y_test = train_test_split(loaded_img, image_labels, test_size=0.2, shuffle=True)\n",
    "f.value += 1\n",
    "\n",
    "X_train = tf.keras.utils.normalize(X_train, axis=1)\n",
    "X_test = tf.keras.utils.normalize(X_test, axis=1)\n",
    "f.value += 1\n",
    "\n",
    "X_train = tf.convert_to_tensor(X_train, dtype=tf.float32)\n",
    "X_test = tf.convert_to_tensor(X_test, dtype=tf.float32)\n",
    "f.value += 1\n",
    "y_train = tf.convert_to_tensor(y_train, dtype=tf.int32)\n",
    "y_test = tf.convert_to_tensor(y_test, dtype=tf.int32)\n",
    "f.value += 1\n",
    "\n",
    "X_train = tf.reshape(X_train, [-1,45,45,1]) # added 4 dimension size of one for the channel number\n",
    "X_test = tf.reshape(X_test, [-1,45,45,1])\n",
    "f.value += 1\n",
    "\n",
    "#X_train = tf.reshape(X_train, [-1,45,45,1]) # added 4 dimension size of one for the channel number\n",
    "#X_train.append(tf.reshape(X_train, [len(image_labels)-50000,45,45,1]))\n",
    "#f.value += 1"
   ]
  },
  {
   "cell_type": "code",
   "execution_count": 8,
   "metadata": {},
   "outputs": [
    {
     "name": "stdout",
     "output_type": "stream",
     "text": [
      "[PhysicalDevice(name='/physical_device:GPU:0', device_type='GPU')]\n",
      "INFO:tensorflow:Reloading Oracle from existing project C:\\Users\\eleeh\\Documents\\untitled_project\\oracle.json\n",
      "INFO:tensorflow:Reloading Tuner from C:\\Users\\eleeh\\Documents\\untitled_project\\tuner0.json\n",
      "Train on 76053 samples, validate on 19014 samples\n",
      "Epoch 1/5\n",
      "76053/76053 - 21s - loss: 0.5407 - accuracy: 0.8393 - val_loss: 0.2106 - val_accuracy: 0.9359\n",
      "Epoch 2/5\n",
      "76053/76053 - 19s - loss: 0.1712 - accuracy: 0.9510 - val_loss: 0.1551 - val_accuracy: 0.9526\n",
      "Epoch 3/5\n",
      "76053/76053 - 20s - loss: 0.1180 - accuracy: 0.9660 - val_loss: 0.1201 - val_accuracy: 0.9628\n",
      "Epoch 4/5\n",
      "76053/76053 - 20s - loss: 0.0902 - accuracy: 0.9734 - val_loss: 0.1113 - val_accuracy: 0.9661\n",
      "Epoch 5/5\n",
      "76053/76053 - 20s - loss: 0.0711 - accuracy: 0.9789 - val_loss: 0.0842 - val_accuracy: 0.9737\n",
      "Train on 76053 samples, validate on 19014 samples\n",
      "Epoch 1/5\n",
      "76053/76053 - 21s - loss: 0.5295 - accuracy: 0.8370 - val_loss: 0.1976 - val_accuracy: 0.9422\n",
      "Epoch 2/5\n",
      "76053/76053 - 20s - loss: 0.1510 - accuracy: 0.9570 - val_loss: 0.1139 - val_accuracy: 0.9670\n",
      "Epoch 3/5\n",
      "76053/76053 - 20s - loss: 0.1028 - accuracy: 0.9701 - val_loss: 0.0981 - val_accuracy: 0.9710\n",
      "Epoch 4/5\n",
      "76053/76053 - 20s - loss: 0.0776 - accuracy: 0.9769 - val_loss: 0.0590 - val_accuracy: 0.9823\n",
      "Epoch 5/5\n",
      "76053/76053 - 20s - loss: 0.0609 - accuracy: 0.9823 - val_loss: 0.0623 - val_accuracy: 0.9823\n",
      "Train on 76053 samples, validate on 19014 samples\n",
      "Epoch 1/5\n",
      "76053/76053 - 21s - loss: 0.4779 - accuracy: 0.8543 - val_loss: 0.1699 - val_accuracy: 0.9501\n",
      "Epoch 2/5\n",
      "76053/76053 - 20s - loss: 0.1541 - accuracy: 0.9551 - val_loss: 0.1241 - val_accuracy: 0.9632\n",
      "Epoch 3/5\n",
      "76053/76053 - 20s - loss: 0.1065 - accuracy: 0.9694 - val_loss: 0.0924 - val_accuracy: 0.9737\n",
      "Epoch 4/5\n",
      "76053/76053 - 20s - loss: 0.0800 - accuracy: 0.9769 - val_loss: 0.1074 - val_accuracy: 0.9694\n",
      "Epoch 5/5\n",
      "76053/76053 - 20s - loss: 0.0645 - accuracy: 0.9813 - val_loss: 0.0572 - val_accuracy: 0.9848\n",
      "Train on 76053 samples, validate on 19014 samples\n",
      "Epoch 1/5\n",
      "76053/76053 - 21s - loss: 0.5637 - accuracy: 0.8273 - val_loss: 0.1962 - val_accuracy: 0.9401\n",
      "Epoch 2/5\n",
      "76053/76053 - 20s - loss: 0.1507 - accuracy: 0.9556 - val_loss: 0.1157 - val_accuracy: 0.9661\n",
      "Epoch 3/5\n",
      "76053/76053 - 20s - loss: 0.1039 - accuracy: 0.9688 - val_loss: 0.0842 - val_accuracy: 0.9745\n",
      "Epoch 4/5\n",
      "76053/76053 - 20s - loss: 0.0813 - accuracy: 0.9760 - val_loss: 0.0790 - val_accuracy: 0.9760\n",
      "Epoch 5/5\n",
      "76053/76053 - 20s - loss: 0.0656 - accuracy: 0.9814 - val_loss: 0.0854 - val_accuracy: 0.9763\n",
      "Train on 76053 samples, validate on 19014 samples\n",
      "Epoch 1/5\n",
      "76053/76053 - 21s - loss: 0.5133 - accuracy: 0.8425 - val_loss: 0.1571 - val_accuracy: 0.9558\n",
      "Epoch 2/5\n",
      "76053/76053 - 20s - loss: 0.1345 - accuracy: 0.9614 - val_loss: 0.0924 - val_accuracy: 0.9728\n",
      "Epoch 3/5\n",
      "76053/76053 - 20s - loss: 0.0914 - accuracy: 0.9736 - val_loss: 0.0758 - val_accuracy: 0.9780\n",
      "Epoch 4/5\n",
      "76053/76053 - 20s - loss: 0.0683 - accuracy: 0.9808 - val_loss: 0.0643 - val_accuracy: 0.9822\n",
      "Epoch 5/5\n",
      "76053/76053 - 21s - loss: 0.0544 - accuracy: 0.9839 - val_loss: 0.0563 - val_accuracy: 0.9843\n"
     ]
    },
    {
     "data": {
      "text/html": [
       "<span style=\"color:#4527A0\"><h1 style=\"font-size:18px\">Trial complete</h1></span>"
      ],
      "text/plain": [
       "<IPython.core.display.HTML object>"
      ]
     },
     "metadata": {},
     "output_type": "display_data"
    },
    {
     "data": {
      "text/html": [
       "<span style=\"color:#4527A0\"><h1 style=\"font-size:18px\">Trial summary</h1></span>"
      ],
      "text/plain": [
       "<IPython.core.display.HTML object>"
      ]
     },
     "metadata": {},
     "output_type": "display_data"
    },
    {
     "data": {
      "text/html": [
       "<span style=\"color:cyan\"> |-Trial ID: 3096d06bf43841c1904309ea3d922d19</span>"
      ],
      "text/plain": [
       "<IPython.core.display.HTML object>"
      ]
     },
     "metadata": {},
     "output_type": "display_data"
    },
    {
     "data": {
      "text/html": [
       "<span style=\"color:cyan\"> |-Score: 0.9802882075309753</span>"
      ],
      "text/plain": [
       "<IPython.core.display.HTML object>"
      ]
     },
     "metadata": {},
     "output_type": "display_data"
    },
    {
     "data": {
      "text/html": [
       "<span style=\"color:cyan\"> |-Best step: 0</span>"
      ],
      "text/plain": [
       "<IPython.core.display.HTML object>"
      ]
     },
     "metadata": {},
     "output_type": "display_data"
    },
    {
     "data": {
      "text/html": [
       "<span style=\"color:#7E57C2\"><h2 style=\"font-size:16px\">Hyperparameters:</h2></span>"
      ],
      "text/plain": [
       "<IPython.core.display.HTML object>"
      ]
     },
     "metadata": {},
     "output_type": "display_data"
    },
    {
     "data": {
      "text/html": [
       "<span style=\"color:cyan\"> |-conv_1_units: 16</span>"
      ],
      "text/plain": [
       "<IPython.core.display.HTML object>"
      ]
     },
     "metadata": {},
     "output_type": "display_data"
    },
    {
     "data": {
      "text/html": [
       "<span style=\"color:blue\"> |-conv_2_units: 16</span>"
      ],
      "text/plain": [
       "<IPython.core.display.HTML object>"
      ]
     },
     "metadata": {},
     "output_type": "display_data"
    },
    {
     "data": {
      "text/html": [
       "<span style=\"color:cyan\"> |-conv_3_units: 16</span>"
      ],
      "text/plain": [
       "<IPython.core.display.HTML object>"
      ]
     },
     "metadata": {},
     "output_type": "display_data"
    },
    {
     "data": {
      "text/html": [
       "<span style=\"color:blue\"> |-input_1_units: 64</span>"
      ],
      "text/plain": [
       "<IPython.core.display.HTML object>"
      ]
     },
     "metadata": {},
     "output_type": "display_data"
    },
    {
     "data": {
      "text/html": [
       "<span style=\"color:cyan\"> |-input_2_units: 64</span>"
      ],
      "text/plain": [
       "<IPython.core.display.HTML object>"
      ]
     },
     "metadata": {},
     "output_type": "display_data"
    },
    {
     "data": {
      "text/html": [
       "<span style=\"color:blue\"> |-input_units: 80</span>"
      ],
      "text/plain": [
       "<IPython.core.display.HTML object>"
      ]
     },
     "metadata": {},
     "output_type": "display_data"
    },
    {
     "name": "stdout",
     "output_type": "stream",
     "text": [
      "Train on 76053 samples, validate on 19014 samples\n",
      "Epoch 1/5\n",
      "76053/76053 - 31s - loss: 0.4151 - accuracy: 0.8679 - val_loss: 0.1021 - val_accuracy: 0.9708\n",
      "Epoch 2/5\n",
      "76053/76053 - 29s - loss: 0.0866 - accuracy: 0.9756 - val_loss: 0.0714 - val_accuracy: 0.9803\n",
      "Epoch 3/5\n",
      "76053/76053 - 30s - loss: 0.0555 - accuracy: 0.9844 - val_loss: 0.0530 - val_accuracy: 0.9855\n",
      "Epoch 4/5\n",
      "76053/76053 - 29s - loss: 0.0396 - accuracy: 0.9883 - val_loss: 0.0368 - val_accuracy: 0.9891\n",
      "Epoch 5/5\n",
      "76053/76053 - 29s - loss: 0.0303 - accuracy: 0.9909 - val_loss: 0.0585 - val_accuracy: 0.9824\n",
      "Train on 76053 samples, validate on 19014 samples\n",
      "Epoch 1/5\n",
      "76053/76053 - 29s - loss: 0.3522 - accuracy: 0.8914 - val_loss: 0.1069 - val_accuracy: 0.9686\n",
      "Epoch 2/5\n",
      "76053/76053 - 31s - loss: 0.0858 - accuracy: 0.9747 - val_loss: 0.0827 - val_accuracy: 0.9764\n",
      "Epoch 3/5\n",
      "76053/76053 - 29s - loss: 0.0560 - accuracy: 0.9837 - val_loss: 0.0681 - val_accuracy: 0.9810\n",
      "Epoch 4/5\n",
      "76053/76053 - 29s - loss: 0.0409 - accuracy: 0.9878 - val_loss: 0.0490 - val_accuracy: 0.9855\n",
      "Epoch 5/5\n",
      "76053/76053 - 29s - loss: 0.0306 - accuracy: 0.9912 - val_loss: 0.0303 - val_accuracy: 0.9922\n",
      "Train on 76053 samples, validate on 19014 samples\n",
      "Epoch 1/5\n",
      "76053/76053 - 32s - loss: 0.3844 - accuracy: 0.8785 - val_loss: 0.0964 - val_accuracy: 0.9725\n",
      "Epoch 2/5\n",
      "76053/76053 - 31s - loss: 0.0818 - accuracy: 0.9767 - val_loss: 0.0660 - val_accuracy: 0.9789\n",
      "Epoch 3/5\n",
      "76053/76053 - 31s - loss: 0.0532 - accuracy: 0.9845 - val_loss: 0.0503 - val_accuracy: 0.9869\n",
      "Epoch 4/5\n",
      "76053/76053 - 30s - loss: 0.0376 - accuracy: 0.9888 - val_loss: 0.0425 - val_accuracy: 0.9881\n",
      "Epoch 5/5\n",
      "76053/76053 - 31s - loss: 0.0292 - accuracy: 0.9915 - val_loss: 0.0336 - val_accuracy: 0.9908\n",
      "Train on 76053 samples, validate on 19014 samples\n",
      "Epoch 1/5\n",
      "76053/76053 - 31s - loss: 0.3731 - accuracy: 0.8820 - val_loss: 0.1223 - val_accuracy: 0.9630\n",
      "Epoch 2/5\n",
      "76053/76053 - 30s - loss: 0.0884 - accuracy: 0.9743 - val_loss: 0.0759 - val_accuracy: 0.9773\n",
      "Epoch 3/5\n",
      "76053/76053 - 30s - loss: 0.0567 - accuracy: 0.9834 - val_loss: 0.0543 - val_accuracy: 0.9841\n",
      "Epoch 4/5\n",
      "76053/76053 - 30s - loss: 0.0417 - accuracy: 0.9881 - val_loss: 0.0382 - val_accuracy: 0.9888\n",
      "Epoch 5/5\n",
      "76053/76053 - 31s - loss: 0.0313 - accuracy: 0.9909 - val_loss: 0.0391 - val_accuracy: 0.9871\n",
      "Train on 76053 samples, validate on 19014 samples\n",
      "Epoch 1/5\n",
      "76053/76053 - 31s - loss: 0.3810 - accuracy: 0.8789 - val_loss: 0.0923 - val_accuracy: 0.9731\n",
      "Epoch 2/5\n",
      "76053/76053 - 31s - loss: 0.0732 - accuracy: 0.9790 - val_loss: 0.0725 - val_accuracy: 0.9779\n",
      "Epoch 3/5\n",
      "76053/76053 - 30s - loss: 0.0485 - accuracy: 0.9863 - val_loss: 0.0422 - val_accuracy: 0.9879\n",
      "Epoch 4/5\n",
      "76053/76053 - 33s - loss: 0.0350 - accuracy: 0.9896 - val_loss: 0.0415 - val_accuracy: 0.9875\n",
      "Epoch 5/5\n",
      "76053/76053 - 30s - loss: 0.0267 - accuracy: 0.9918 - val_loss: 0.0248 - val_accuracy: 0.9942\n"
     ]
    },
    {
     "data": {
      "text/html": [
       "<span style=\"color:#4527A0\"><h1 style=\"font-size:18px\">Trial complete</h1></span>"
      ],
      "text/plain": [
       "<IPython.core.display.HTML object>"
      ]
     },
     "metadata": {},
     "output_type": "display_data"
    },
    {
     "data": {
      "text/html": [
       "<span style=\"color:#4527A0\"><h1 style=\"font-size:18px\">Trial summary</h1></span>"
      ],
      "text/plain": [
       "<IPython.core.display.HTML object>"
      ]
     },
     "metadata": {},
     "output_type": "display_data"
    },
    {
     "data": {
      "text/html": [
       "<span style=\"color:cyan\"> |-Trial ID: 76343401195165d8387a1ad95994328b</span>"
      ],
      "text/plain": [
       "<IPython.core.display.HTML object>"
      ]
     },
     "metadata": {},
     "output_type": "display_data"
    },
    {
     "data": {
      "text/html": [
       "<span style=\"color:cyan\"> |-Score: 0.9910171627998352</span>"
      ],
      "text/plain": [
       "<IPython.core.display.HTML object>"
      ]
     },
     "metadata": {},
     "output_type": "display_data"
    },
    {
     "data": {
      "text/html": [
       "<span style=\"color:cyan\"> |-Best step: 0</span>"
      ],
      "text/plain": [
       "<IPython.core.display.HTML object>"
      ]
     },
     "metadata": {},
     "output_type": "display_data"
    },
    {
     "data": {
      "text/html": [
       "<span style=\"color:#7E57C2\"><h2 style=\"font-size:16px\">Hyperparameters:</h2></span>"
      ],
      "text/plain": [
       "<IPython.core.display.HTML object>"
      ]
     },
     "metadata": {},
     "output_type": "display_data"
    },
    {
     "data": {
      "text/html": [
       "<span style=\"color:cyan\"> |-conv_1_units: 80</span>"
      ],
      "text/plain": [
       "<IPython.core.display.HTML object>"
      ]
     },
     "metadata": {},
     "output_type": "display_data"
    },
    {
     "data": {
      "text/html": [
       "<span style=\"color:blue\"> |-conv_2_units: 16</span>"
      ],
      "text/plain": [
       "<IPython.core.display.HTML object>"
      ]
     },
     "metadata": {},
     "output_type": "display_data"
    },
    {
     "data": {
      "text/html": [
       "<span style=\"color:cyan\"> |-conv_3_units: 112</span>"
      ],
      "text/plain": [
       "<IPython.core.display.HTML object>"
      ]
     },
     "metadata": {},
     "output_type": "display_data"
    },
    {
     "data": {
      "text/html": [
       "<span style=\"color:blue\"> |-input_1_units: 128</span>"
      ],
      "text/plain": [
       "<IPython.core.display.HTML object>"
      ]
     },
     "metadata": {},
     "output_type": "display_data"
    },
    {
     "data": {
      "text/html": [
       "<span style=\"color:cyan\"> |-input_2_units: 192</span>"
      ],
      "text/plain": [
       "<IPython.core.display.HTML object>"
      ]
     },
     "metadata": {},
     "output_type": "display_data"
    },
    {
     "data": {
      "text/html": [
       "<span style=\"color:blue\"> |-input_units: 32</span>"
      ],
      "text/plain": [
       "<IPython.core.display.HTML object>"
      ]
     },
     "metadata": {},
     "output_type": "display_data"
    },
    {
     "name": "stdout",
     "output_type": "stream",
     "text": [
      "Train on 76053 samples, validate on 19014 samples\n",
      "Epoch 1/5\n",
      "76053/76053 - 43s - loss: 0.3004 - accuracy: 0.9067 - val_loss: 0.0751 - val_accuracy: 0.9793\n",
      "Epoch 2/5\n",
      "76053/76053 - 40s - loss: 0.0661 - accuracy: 0.9812 - val_loss: 0.0455 - val_accuracy: 0.9861\n",
      "Epoch 3/5\n",
      "76053/76053 - 41s - loss: 0.0443 - accuracy: 0.9873 - val_loss: 0.0399 - val_accuracy: 0.9889\n",
      "Epoch 4/5\n",
      "76053/76053 - 41s - loss: 0.0330 - accuracy: 0.9903 - val_loss: 0.0418 - val_accuracy: 0.9894\n",
      "Epoch 5/5\n",
      "76053/76053 - 41s - loss: 0.0254 - accuracy: 0.9927 - val_loss: 0.0253 - val_accuracy: 0.9928\n",
      "Train on 76053 samples, validate on 19014 samples\n",
      "Epoch 1/5\n",
      "76053/76053 - 42s - loss: 0.2939 - accuracy: 0.9101 - val_loss: 0.1072 - val_accuracy: 0.9677\n",
      "Epoch 2/5\n",
      "76053/76053 - 40s - loss: 0.0734 - accuracy: 0.9786 - val_loss: 0.0507 - val_accuracy: 0.9854\n",
      "Epoch 3/5\n",
      "76053/76053 - 41s - loss: 0.0467 - accuracy: 0.9864 - val_loss: 0.0568 - val_accuracy: 0.9821\n",
      "Epoch 4/5\n",
      "76053/76053 - 40s - loss: 0.0356 - accuracy: 0.9898 - val_loss: 0.0308 - val_accuracy: 0.9904\n",
      "Epoch 5/5\n",
      "76053/76053 - 41s - loss: 0.0269 - accuracy: 0.9925 - val_loss: 0.0434 - val_accuracy: 0.9875\n",
      "Train on 76053 samples, validate on 19014 samples\n",
      "Epoch 1/5\n",
      "76053/76053 - 42s - loss: 0.3321 - accuracy: 0.8967 - val_loss: 0.0860 - val_accuracy: 0.9741\n",
      "Epoch 2/5\n",
      "76053/76053 - 41s - loss: 0.0764 - accuracy: 0.9786 - val_loss: 0.0613 - val_accuracy: 0.9821\n",
      "Epoch 3/5\n",
      "76053/76053 - 41s - loss: 0.0490 - accuracy: 0.9860 - val_loss: 0.0415 - val_accuracy: 0.9874\n",
      "Epoch 4/5\n",
      "76053/76053 - 41s - loss: 0.0359 - accuracy: 0.9896 - val_loss: 0.0376 - val_accuracy: 0.9876\n",
      "Epoch 5/5\n",
      "76053/76053 - 42s - loss: 0.0268 - accuracy: 0.9922 - val_loss: 0.0256 - val_accuracy: 0.9927\n",
      "Train on 76053 samples, validate on 19014 samples\n",
      "Epoch 1/5\n",
      "76053/76053 - 41s - loss: 0.3241 - accuracy: 0.9005 - val_loss: 0.0934 - val_accuracy: 0.9734\n",
      "Epoch 2/5\n",
      "76053/76053 - 42s - loss: 0.0760 - accuracy: 0.9774 - val_loss: 0.0631 - val_accuracy: 0.9804\n",
      "Epoch 3/5\n",
      "76053/76053 - 42s - loss: 0.0526 - accuracy: 0.9845 - val_loss: 0.0483 - val_accuracy: 0.9854\n",
      "Epoch 4/5\n",
      "76053/76053 - 42s - loss: 0.0380 - accuracy: 0.9890 - val_loss: 0.0266 - val_accuracy: 0.9919\n",
      "Epoch 5/5\n",
      "76053/76053 - 41s - loss: 0.0301 - accuracy: 0.9909 - val_loss: 0.0313 - val_accuracy: 0.9907\n",
      "Train on 76053 samples, validate on 19014 samples\n",
      "Epoch 1/5\n",
      "76053/76053 - 42s - loss: 0.2753 - accuracy: 0.9170 - val_loss: 0.1007 - val_accuracy: 0.9703\n",
      "Epoch 2/5\n",
      "76053/76053 - 42s - loss: 0.0700 - accuracy: 0.9803 - val_loss: 0.0727 - val_accuracy: 0.9782\n",
      "Epoch 3/5\n",
      "76053/76053 - 40s - loss: 0.0455 - accuracy: 0.9870 - val_loss: 0.0642 - val_accuracy: 0.9795\n",
      "Epoch 4/5\n",
      "76053/76053 - 39s - loss: 0.0347 - accuracy: 0.9897 - val_loss: 0.0351 - val_accuracy: 0.9898\n",
      "Epoch 5/5\n",
      "76053/76053 - 39s - loss: 0.0266 - accuracy: 0.9923 - val_loss: 0.0241 - val_accuracy: 0.9940\n"
     ]
    },
    {
     "data": {
      "text/html": [
       "<span style=\"color:#4527A0\"><h1 style=\"font-size:18px\">Trial complete</h1></span>"
      ],
      "text/plain": [
       "<IPython.core.display.HTML object>"
      ]
     },
     "metadata": {},
     "output_type": "display_data"
    },
    {
     "data": {
      "text/html": [
       "<span style=\"color:#4527A0\"><h1 style=\"font-size:18px\">Trial summary</h1></span>"
      ],
      "text/plain": [
       "<IPython.core.display.HTML object>"
      ]
     },
     "metadata": {},
     "output_type": "display_data"
    },
    {
     "data": {
      "text/html": [
       "<span style=\"color:cyan\"> |-Trial ID: 298afd461d615b28929abadf6e3d28d7</span>"
      ],
      "text/plain": [
       "<IPython.core.display.HTML object>"
      ]
     },
     "metadata": {},
     "output_type": "display_data"
    },
    {
     "data": {
      "text/html": [
       "<span style=\"color:cyan\"> |-Score: 0.9923635721206665</span>"
      ],
      "text/plain": [
       "<IPython.core.display.HTML object>"
      ]
     },
     "metadata": {},
     "output_type": "display_data"
    },
    {
     "data": {
      "text/html": [
       "<span style=\"color:cyan\"> |-Best step: 0</span>"
      ],
      "text/plain": [
       "<IPython.core.display.HTML object>"
      ]
     },
     "metadata": {},
     "output_type": "display_data"
    },
    {
     "data": {
      "text/html": [
       "<span style=\"color:#7E57C2\"><h2 style=\"font-size:16px\">Hyperparameters:</h2></span>"
      ],
      "text/plain": [
       "<IPython.core.display.HTML object>"
      ]
     },
     "metadata": {},
     "output_type": "display_data"
    },
    {
     "data": {
      "text/html": [
       "<span style=\"color:cyan\"> |-conv_1_units: 112</span>"
      ],
      "text/plain": [
       "<IPython.core.display.HTML object>"
      ]
     },
     "metadata": {},
     "output_type": "display_data"
    },
    {
     "data": {
      "text/html": [
       "<span style=\"color:blue\"> |-conv_2_units: 96</span>"
      ],
      "text/plain": [
       "<IPython.core.display.HTML object>"
      ]
     },
     "metadata": {},
     "output_type": "display_data"
    },
    {
     "data": {
      "text/html": [
       "<span style=\"color:cyan\"> |-conv_3_units: 48</span>"
      ],
      "text/plain": [
       "<IPython.core.display.HTML object>"
      ]
     },
     "metadata": {},
     "output_type": "display_data"
    },
    {
     "data": {
      "text/html": [
       "<span style=\"color:blue\"> |-input_1_units: 256</span>"
      ],
      "text/plain": [
       "<IPython.core.display.HTML object>"
      ]
     },
     "metadata": {},
     "output_type": "display_data"
    },
    {
     "data": {
      "text/html": [
       "<span style=\"color:cyan\"> |-input_2_units: 128</span>"
      ],
      "text/plain": [
       "<IPython.core.display.HTML object>"
      ]
     },
     "metadata": {},
     "output_type": "display_data"
    },
    {
     "data": {
      "text/html": [
       "<span style=\"color:blue\"> |-input_units: 96</span>"
      ],
      "text/plain": [
       "<IPython.core.display.HTML object>"
      ]
     },
     "metadata": {},
     "output_type": "display_data"
    },
    {
     "name": "stdout",
     "output_type": "stream",
     "text": [
      "Train on 76053 samples, validate on 19014 samples\n",
      "Epoch 1/5\n",
      "76053/76053 - 29s - loss: 0.3522 - accuracy: 0.8917 - val_loss: 0.1092 - val_accuracy: 0.9680\n",
      "Epoch 2/5\n",
      "76053/76053 - 28s - loss: 0.0859 - accuracy: 0.9753 - val_loss: 0.0593 - val_accuracy: 0.9837\n",
      "Epoch 3/5\n",
      "76053/76053 - 29s - loss: 0.0556 - accuracy: 0.9844 - val_loss: 0.0502 - val_accuracy: 0.9863\n",
      "Epoch 4/5\n",
      "76053/76053 - 27s - loss: 0.0412 - accuracy: 0.9882 - val_loss: 0.0342 - val_accuracy: 0.9903\n",
      "Epoch 5/5\n",
      "76053/76053 - 26s - loss: 0.0306 - accuracy: 0.9913 - val_loss: 0.0369 - val_accuracy: 0.9906\n",
      "Train on 76053 samples, validate on 19014 samples\n",
      "Epoch 1/5\n",
      "76053/76053 - 26s - loss: 0.4944 - accuracy: 0.8429 - val_loss: 0.1125 - val_accuracy: 0.9663\n",
      "Epoch 2/5\n",
      "76053/76053 - 27s - loss: 0.0954 - accuracy: 0.9729 - val_loss: 0.0719 - val_accuracy: 0.9797\n",
      "Epoch 3/5\n",
      "76053/76053 - 27s - loss: 0.0615 - accuracy: 0.9823 - val_loss: 0.0565 - val_accuracy: 0.9836\n",
      "Epoch 4/5\n",
      "76053/76053 - 26s - loss: 0.0451 - accuracy: 0.9872 - val_loss: 0.0487 - val_accuracy: 0.9877\n",
      "Epoch 5/5\n",
      "76053/76053 - 27s - loss: 0.0339 - accuracy: 0.9898 - val_loss: 0.0374 - val_accuracy: 0.9884\n",
      "Train on 76053 samples, validate on 19014 samples\n",
      "Epoch 1/5\n",
      "76053/76053 - 27s - loss: 0.3590 - accuracy: 0.8886 - val_loss: 0.1026 - val_accuracy: 0.9693\n",
      "Epoch 2/5\n",
      "76053/76053 - 27s - loss: 0.0860 - accuracy: 0.9750 - val_loss: 0.0605 - val_accuracy: 0.9840\n",
      "Epoch 3/5\n",
      "76053/76053 - 28s - loss: 0.0568 - accuracy: 0.9838 - val_loss: 0.0641 - val_accuracy: 0.9812\n",
      "Epoch 4/5\n",
      "76053/76053 - 28s - loss: 0.0416 - accuracy: 0.9879 - val_loss: 0.0457 - val_accuracy: 0.9866\n",
      "Epoch 5/5\n",
      "76053/76053 - 27s - loss: 0.0311 - accuracy: 0.9908 - val_loss: 0.0377 - val_accuracy: 0.9895\n",
      "Train on 76053 samples, validate on 19014 samples\n",
      "Epoch 1/5\n",
      "76053/76053 - 29s - loss: 0.4040 - accuracy: 0.8742 - val_loss: 0.1273 - val_accuracy: 0.9608\n",
      "Epoch 2/5\n",
      "76053/76053 - 28s - loss: 0.0855 - accuracy: 0.9753 - val_loss: 0.0647 - val_accuracy: 0.9809\n",
      "Epoch 3/5\n",
      "76053/76053 - 29s - loss: 0.0544 - accuracy: 0.9842 - val_loss: 0.0461 - val_accuracy: 0.9871\n",
      "Epoch 4/5\n",
      "76053/76053 - 28s - loss: 0.0389 - accuracy: 0.9887 - val_loss: 0.0400 - val_accuracy: 0.9891\n",
      "Epoch 5/5\n",
      "76053/76053 - 28s - loss: 0.0306 - accuracy: 0.9913 - val_loss: 0.0341 - val_accuracy: 0.9895\n",
      "Train on 76053 samples, validate on 19014 samples\n",
      "Epoch 1/5\n",
      "76053/76053 - 29s - loss: 0.4048 - accuracy: 0.8736 - val_loss: 0.1269 - val_accuracy: 0.9619\n",
      "Epoch 2/5\n",
      "76053/76053 - 29s - loss: 0.0967 - accuracy: 0.9724 - val_loss: 0.0732 - val_accuracy: 0.9796\n",
      "Epoch 3/5\n",
      "76053/76053 - 28s - loss: 0.0617 - accuracy: 0.9821 - val_loss: 0.0534 - val_accuracy: 0.9837\n",
      "Epoch 4/5\n",
      "76053/76053 - 26s - loss: 0.0443 - accuracy: 0.9877 - val_loss: 0.0422 - val_accuracy: 0.9885\n",
      "Epoch 5/5\n",
      "76053/76053 - 27s - loss: 0.0332 - accuracy: 0.9906 - val_loss: 0.0483 - val_accuracy: 0.9867\n"
     ]
    },
    {
     "data": {
      "text/html": [
       "<span style=\"color:#4527A0\"><h1 style=\"font-size:18px\">Trial complete</h1></span>"
      ],
      "text/plain": [
       "<IPython.core.display.HTML object>"
      ]
     },
     "metadata": {},
     "output_type": "display_data"
    },
    {
     "data": {
      "text/html": [
       "<span style=\"color:#4527A0\"><h1 style=\"font-size:18px\">Trial summary</h1></span>"
      ],
      "text/plain": [
       "<IPython.core.display.HTML object>"
      ]
     },
     "metadata": {},
     "output_type": "display_data"
    },
    {
     "data": {
      "text/html": [
       "<span style=\"color:cyan\"> |-Trial ID: dbbe3cd594231309c940339ed5495820</span>"
      ],
      "text/plain": [
       "<IPython.core.display.HTML object>"
      ]
     },
     "metadata": {},
     "output_type": "display_data"
    },
    {
     "data": {
      "text/html": [
       "<span style=\"color:cyan\"> |-Score: 0.9892921447753906</span>"
      ],
      "text/plain": [
       "<IPython.core.display.HTML object>"
      ]
     },
     "metadata": {},
     "output_type": "display_data"
    },
    {
     "data": {
      "text/html": [
       "<span style=\"color:cyan\"> |-Best step: 0</span>"
      ],
      "text/plain": [
       "<IPython.core.display.HTML object>"
      ]
     },
     "metadata": {},
     "output_type": "display_data"
    },
    {
     "data": {
      "text/html": [
       "<span style=\"color:#7E57C2\"><h2 style=\"font-size:16px\">Hyperparameters:</h2></span>"
      ],
      "text/plain": [
       "<IPython.core.display.HTML object>"
      ]
     },
     "metadata": {},
     "output_type": "display_data"
    },
    {
     "data": {
      "text/html": [
       "<span style=\"color:cyan\"> |-conv_1_units: 64</span>"
      ],
      "text/plain": [
       "<IPython.core.display.HTML object>"
      ]
     },
     "metadata": {},
     "output_type": "display_data"
    },
    {
     "data": {
      "text/html": [
       "<span style=\"color:blue\"> |-conv_2_units: 16</span>"
      ],
      "text/plain": [
       "<IPython.core.display.HTML object>"
      ]
     },
     "metadata": {},
     "output_type": "display_data"
    },
    {
     "data": {
      "text/html": [
       "<span style=\"color:cyan\"> |-conv_3_units: 80</span>"
      ],
      "text/plain": [
       "<IPython.core.display.HTML object>"
      ]
     },
     "metadata": {},
     "output_type": "display_data"
    },
    {
     "data": {
      "text/html": [
       "<span style=\"color:blue\"> |-input_1_units: 192</span>"
      ],
      "text/plain": [
       "<IPython.core.display.HTML object>"
      ]
     },
     "metadata": {},
     "output_type": "display_data"
    },
    {
     "data": {
      "text/html": [
       "<span style=\"color:cyan\"> |-input_2_units: 64</span>"
      ],
      "text/plain": [
       "<IPython.core.display.HTML object>"
      ]
     },
     "metadata": {},
     "output_type": "display_data"
    },
    {
     "data": {
      "text/html": [
       "<span style=\"color:blue\"> |-input_units: 80</span>"
      ],
      "text/plain": [
       "<IPython.core.display.HTML object>"
      ]
     },
     "metadata": {},
     "output_type": "display_data"
    },
    {
     "name": "stdout",
     "output_type": "stream",
     "text": [
      "Train on 76053 samples, validate on 19014 samples\n",
      "Epoch 1/5\n",
      "76053/76053 - 27s - loss: 0.3994 - accuracy: 0.8748 - val_loss: 0.1169 - val_accuracy: 0.9653\n",
      "Epoch 2/5\n",
      "76053/76053 - 26s - loss: 0.1020 - accuracy: 0.9704 - val_loss: 0.0925 - val_accuracy: 0.9738\n",
      "Epoch 3/5\n",
      "76053/76053 - 27s - loss: 0.0670 - accuracy: 0.9808 - val_loss: 0.0752 - val_accuracy: 0.9777\n",
      "Epoch 4/5\n",
      "76053/76053 - 26s - loss: 0.0502 - accuracy: 0.9855 - val_loss: 0.0429 - val_accuracy: 0.9885\n",
      "Epoch 5/5\n",
      "76053/76053 - 27s - loss: 0.0372 - accuracy: 0.9890 - val_loss: 0.0389 - val_accuracy: 0.9884\n",
      "Train on 76053 samples, validate on 19014 samples\n",
      "Epoch 1/5\n",
      "76053/76053 - 30s - loss: 0.3801 - accuracy: 0.8848 - val_loss: 0.1208 - val_accuracy: 0.9660\n",
      "Epoch 2/5\n",
      "76053/76053 - 31s - loss: 0.0949 - accuracy: 0.9727 - val_loss: 0.1102 - val_accuracy: 0.9698\n",
      "Epoch 3/5\n",
      "76053/76053 - 33s - loss: 0.0620 - accuracy: 0.9826 - val_loss: 0.0526 - val_accuracy: 0.9860\n",
      "Epoch 4/5\n",
      "76053/76053 - 32s - loss: 0.0470 - accuracy: 0.9867 - val_loss: 0.0576 - val_accuracy: 0.9834\n",
      "Epoch 5/5\n",
      "76053/76053 - 31s - loss: 0.0365 - accuracy: 0.9896 - val_loss: 0.0428 - val_accuracy: 0.9871\n",
      "Train on 76053 samples, validate on 19014 samples\n",
      "Epoch 1/5\n",
      "76053/76053 - 30s - loss: 0.3523 - accuracy: 0.8922 - val_loss: 0.1393 - val_accuracy: 0.9587\n",
      "Epoch 2/5\n",
      "76053/76053 - 29s - loss: 0.0951 - accuracy: 0.9728 - val_loss: 0.0809 - val_accuracy: 0.9762\n",
      "Epoch 3/5\n",
      "76053/76053 - 28s - loss: 0.0649 - accuracy: 0.9806 - val_loss: 0.0584 - val_accuracy: 0.9835\n",
      "Epoch 4/5\n",
      "76053/76053 - 28s - loss: 0.0484 - accuracy: 0.9862 - val_loss: 0.0565 - val_accuracy: 0.9827\n",
      "Epoch 5/5\n",
      "76053/76053 - 27s - loss: 0.0354 - accuracy: 0.9896 - val_loss: 0.0475 - val_accuracy: 0.9867\n",
      "Train on 76053 samples, validate on 19014 samples\n",
      "Epoch 1/5\n",
      "76053/76053 - 27s - loss: 0.3611 - accuracy: 0.8881 - val_loss: 0.1050 - val_accuracy: 0.9688\n",
      "Epoch 2/5\n",
      "76053/76053 - 26s - loss: 0.0933 - accuracy: 0.9733 - val_loss: 0.0714 - val_accuracy: 0.9769\n",
      "Epoch 3/5\n",
      "76053/76053 - 25s - loss: 0.0632 - accuracy: 0.9817 - val_loss: 0.0497 - val_accuracy: 0.9856\n",
      "Epoch 4/5\n",
      "76053/76053 - 27s - loss: 0.0481 - accuracy: 0.9857 - val_loss: 0.0480 - val_accuracy: 0.9857\n",
      "Epoch 5/5\n",
      "76053/76053 - 28s - loss: 0.0359 - accuracy: 0.9896 - val_loss: 0.0414 - val_accuracy: 0.9886\n",
      "Train on 76053 samples, validate on 19014 samples\n",
      "Epoch 1/5\n",
      "76053/76053 - 30s - loss: 0.3333 - accuracy: 0.8998 - val_loss: 0.1128 - val_accuracy: 0.9671\n",
      "Epoch 2/5\n",
      "76053/76053 - 28s - loss: 0.0901 - accuracy: 0.9744 - val_loss: 0.0789 - val_accuracy: 0.9780\n",
      "Epoch 3/5\n",
      "76053/76053 - 29s - loss: 0.0609 - accuracy: 0.9825 - val_loss: 0.0597 - val_accuracy: 0.9830\n",
      "Epoch 4/5\n",
      "76053/76053 - 29s - loss: 0.0440 - accuracy: 0.9873 - val_loss: 0.0433 - val_accuracy: 0.9874\n",
      "Epoch 5/5\n",
      "76053/76053 - 29s - loss: 0.0359 - accuracy: 0.9896 - val_loss: 0.0307 - val_accuracy: 0.9911\n"
     ]
    },
    {
     "data": {
      "text/html": [
       "<span style=\"color:#4527A0\"><h1 style=\"font-size:18px\">Trial complete</h1></span>"
      ],
      "text/plain": [
       "<IPython.core.display.HTML object>"
      ]
     },
     "metadata": {},
     "output_type": "display_data"
    },
    {
     "data": {
      "text/html": [
       "<span style=\"color:#4527A0\"><h1 style=\"font-size:18px\">Trial summary</h1></span>"
      ],
      "text/plain": [
       "<IPython.core.display.HTML object>"
      ]
     },
     "metadata": {},
     "output_type": "display_data"
    },
    {
     "data": {
      "text/html": [
       "<span style=\"color:cyan\"> |-Trial ID: ca5120ff07a84e89941f98ff3c5ac7a7</span>"
      ],
      "text/plain": [
       "<IPython.core.display.HTML object>"
      ]
     },
     "metadata": {},
     "output_type": "display_data"
    },
    {
     "data": {
      "text/html": [
       "<span style=\"color:cyan\"> |-Score: 0.9883979558944702</span>"
      ],
      "text/plain": [
       "<IPython.core.display.HTML object>"
      ]
     },
     "metadata": {},
     "output_type": "display_data"
    },
    {
     "data": {
      "text/html": [
       "<span style=\"color:cyan\"> |-Best step: 0</span>"
      ],
      "text/plain": [
       "<IPython.core.display.HTML object>"
      ]
     },
     "metadata": {},
     "output_type": "display_data"
    },
    {
     "data": {
      "text/html": [
       "<span style=\"color:#7E57C2\"><h2 style=\"font-size:16px\">Hyperparameters:</h2></span>"
      ],
      "text/plain": [
       "<IPython.core.display.HTML object>"
      ]
     },
     "metadata": {},
     "output_type": "display_data"
    },
    {
     "data": {
      "text/html": [
       "<span style=\"color:cyan\"> |-conv_1_units: 48</span>"
      ],
      "text/plain": [
       "<IPython.core.display.HTML object>"
      ]
     },
     "metadata": {},
     "output_type": "display_data"
    },
    {
     "data": {
      "text/html": [
       "<span style=\"color:blue\"> |-conv_2_units: 80</span>"
      ],
      "text/plain": [
       "<IPython.core.display.HTML object>"
      ]
     },
     "metadata": {},
     "output_type": "display_data"
    },
    {
     "data": {
      "text/html": [
       "<span style=\"color:cyan\"> |-conv_3_units: 32</span>"
      ],
      "text/plain": [
       "<IPython.core.display.HTML object>"
      ]
     },
     "metadata": {},
     "output_type": "display_data"
    },
    {
     "data": {
      "text/html": [
       "<span style=\"color:blue\"> |-input_1_units: 128</span>"
      ],
      "text/plain": [
       "<IPython.core.display.HTML object>"
      ]
     },
     "metadata": {},
     "output_type": "display_data"
    },
    {
     "data": {
      "text/html": [
       "<span style=\"color:cyan\"> |-input_2_units: 64</span>"
      ],
      "text/plain": [
       "<IPython.core.display.HTML object>"
      ]
     },
     "metadata": {},
     "output_type": "display_data"
    },
    {
     "data": {
      "text/html": [
       "<span style=\"color:blue\"> |-input_units: 48</span>"
      ],
      "text/plain": [
       "<IPython.core.display.HTML object>"
      ]
     },
     "metadata": {},
     "output_type": "display_data"
    },
    {
     "name": "stdout",
     "output_type": "stream",
     "text": [
      "Train on 76053 samples, validate on 19014 samples\n",
      "Epoch 1/5\n",
      "76053/76053 - 39s - loss: 0.3867 - accuracy: 0.8796 - val_loss: 0.1191 - val_accuracy: 0.9646\n",
      "Epoch 2/5\n",
      "76053/76053 - 36s - loss: 0.0924 - accuracy: 0.9730 - val_loss: 0.0739 - val_accuracy: 0.9785\n",
      "Epoch 3/5\n",
      "76053/76053 - 38s - loss: 0.0627 - accuracy: 0.9813 - val_loss: 0.0535 - val_accuracy: 0.9839\n",
      "Epoch 4/5\n",
      "76053/76053 - 38s - loss: 0.0449 - accuracy: 0.9864 - val_loss: 0.0374 - val_accuracy: 0.9890\n",
      "Epoch 5/5\n",
      "76053/76053 - 36s - loss: 0.0338 - accuracy: 0.9902 - val_loss: 0.0548 - val_accuracy: 0.9835\n",
      "Train on 76053 samples, validate on 19014 samples\n",
      "Epoch 1/5\n",
      "76053/76053 - 37s - loss: 0.3264 - accuracy: 0.8998 - val_loss: 0.1001 - val_accuracy: 0.9710\n",
      "Epoch 2/5\n",
      "76053/76053 - 35s - loss: 0.0793 - accuracy: 0.9769 - val_loss: 0.0678 - val_accuracy: 0.9803\n",
      "Epoch 3/5\n",
      "76053/76053 - 35s - loss: 0.0523 - accuracy: 0.9848 - val_loss: 0.0482 - val_accuracy: 0.9860\n",
      "Epoch 4/5\n",
      "76053/76053 - 35s - loss: 0.0374 - accuracy: 0.9891 - val_loss: 0.0510 - val_accuracy: 0.9856\n",
      "Epoch 5/5\n",
      "76053/76053 - 36s - loss: 0.0308 - accuracy: 0.9913 - val_loss: 0.0279 - val_accuracy: 0.9915\n",
      "Train on 76053 samples, validate on 19014 samples\n",
      "Epoch 1/5\n",
      "76053/76053 - 37s - loss: 0.3536 - accuracy: 0.8882 - val_loss: 0.0998 - val_accuracy: 0.9722\n",
      "Epoch 2/5\n",
      "76053/76053 - 37s - loss: 0.0836 - accuracy: 0.9763 - val_loss: 0.0559 - val_accuracy: 0.9833\n",
      "Epoch 3/5\n",
      "76053/76053 - 37s - loss: 0.0559 - accuracy: 0.9838 - val_loss: 0.0547 - val_accuracy: 0.9831\n",
      "Epoch 4/5\n",
      "76053/76053 - 37s - loss: 0.0419 - accuracy: 0.9875 - val_loss: 0.0403 - val_accuracy: 0.9876\n",
      "Epoch 5/5\n",
      "76053/76053 - 37s - loss: 0.0333 - accuracy: 0.9900 - val_loss: 0.0352 - val_accuracy: 0.9896\n",
      "Train on 76053 samples, validate on 19014 samples\n",
      "Epoch 1/5\n",
      "76053/76053 - 38s - loss: 0.3384 - accuracy: 0.8966 - val_loss: 0.0971 - val_accuracy: 0.9725\n",
      "Epoch 2/5\n",
      "76053/76053 - 37s - loss: 0.0860 - accuracy: 0.9752 - val_loss: 0.0622 - val_accuracy: 0.9808\n",
      "Epoch 3/5\n",
      "76053/76053 - 37s - loss: 0.0561 - accuracy: 0.9836 - val_loss: 0.0472 - val_accuracy: 0.9867\n",
      "Epoch 4/5\n",
      "76053/76053 - 36s - loss: 0.0419 - accuracy: 0.9876 - val_loss: 0.0409 - val_accuracy: 0.9891\n",
      "Epoch 5/5\n",
      "76053/76053 - 59s - loss: 0.0324 - accuracy: 0.9903 - val_loss: 0.0325 - val_accuracy: 0.9913\n",
      "Train on 76053 samples, validate on 19014 samples\n",
      "Epoch 1/5\n",
      "76053/76053 - 73s - loss: 0.3056 - accuracy: 0.9081 - val_loss: 0.1122 - val_accuracy: 0.9640\n",
      "Epoch 2/5\n",
      "76053/76053 - 37s - loss: 0.0815 - accuracy: 0.9767 - val_loss: 0.0667 - val_accuracy: 0.9795\n",
      "Epoch 3/5\n",
      "76053/76053 - 37s - loss: 0.0552 - accuracy: 0.9835 - val_loss: 0.0447 - val_accuracy: 0.9864\n",
      "Epoch 4/5\n",
      "76053/76053 - 36s - loss: 0.0398 - accuracy: 0.9884 - val_loss: 0.0463 - val_accuracy: 0.9870\n",
      "Epoch 5/5\n",
      "76053/76053 - 37s - loss: 0.0321 - accuracy: 0.9901 - val_loss: 0.0386 - val_accuracy: 0.9903\n"
     ]
    },
    {
     "data": {
      "text/html": [
       "<span style=\"color:#4527A0\"><h1 style=\"font-size:18px\">Trial complete</h1></span>"
      ],
      "text/plain": [
       "<IPython.core.display.HTML object>"
      ]
     },
     "metadata": {},
     "output_type": "display_data"
    },
    {
     "data": {
      "text/html": [
       "<span style=\"color:#4527A0\"><h1 style=\"font-size:18px\">Trial summary</h1></span>"
      ],
      "text/plain": [
       "<IPython.core.display.HTML object>"
      ]
     },
     "metadata": {},
     "output_type": "display_data"
    },
    {
     "data": {
      "text/html": [
       "<span style=\"color:cyan\"> |-Trial ID: ddadf714152d362d2bd9497f985b7587</span>"
      ],
      "text/plain": [
       "<IPython.core.display.HTML object>"
      ]
     },
     "metadata": {},
     "output_type": "display_data"
    },
    {
     "data": {
      "text/html": [
       "<span style=\"color:cyan\"> |-Score: 0.9903334379196167</span>"
      ],
      "text/plain": [
       "<IPython.core.display.HTML object>"
      ]
     },
     "metadata": {},
     "output_type": "display_data"
    },
    {
     "data": {
      "text/html": [
       "<span style=\"color:cyan\"> |-Best step: 0</span>"
      ],
      "text/plain": [
       "<IPython.core.display.HTML object>"
      ]
     },
     "metadata": {},
     "output_type": "display_data"
    },
    {
     "data": {
      "text/html": [
       "<span style=\"color:#7E57C2\"><h2 style=\"font-size:16px\">Hyperparameters:</h2></span>"
      ],
      "text/plain": [
       "<IPython.core.display.HTML object>"
      ]
     },
     "metadata": {},
     "output_type": "display_data"
    },
    {
     "data": {
      "text/html": [
       "<span style=\"color:cyan\"> |-conv_1_units: 80</span>"
      ],
      "text/plain": [
       "<IPython.core.display.HTML object>"
      ]
     },
     "metadata": {},
     "output_type": "display_data"
    },
    {
     "data": {
      "text/html": [
       "<span style=\"color:blue\"> |-conv_2_units: 112</span>"
      ],
      "text/plain": [
       "<IPython.core.display.HTML object>"
      ]
     },
     "metadata": {},
     "output_type": "display_data"
    },
    {
     "data": {
      "text/html": [
       "<span style=\"color:cyan\"> |-conv_3_units: 32</span>"
      ],
      "text/plain": [
       "<IPython.core.display.HTML object>"
      ]
     },
     "metadata": {},
     "output_type": "display_data"
    },
    {
     "data": {
      "text/html": [
       "<span style=\"color:blue\"> |-input_1_units: 128</span>"
      ],
      "text/plain": [
       "<IPython.core.display.HTML object>"
      ]
     },
     "metadata": {},
     "output_type": "display_data"
    },
    {
     "data": {
      "text/html": [
       "<span style=\"color:cyan\"> |-input_2_units: 192</span>"
      ],
      "text/plain": [
       "<IPython.core.display.HTML object>"
      ]
     },
     "metadata": {},
     "output_type": "display_data"
    },
    {
     "data": {
      "text/html": [
       "<span style=\"color:blue\"> |-input_units: 112</span>"
      ],
      "text/plain": [
       "<IPython.core.display.HTML object>"
      ]
     },
     "metadata": {},
     "output_type": "display_data"
    },
    {
     "name": "stdout",
     "output_type": "stream",
     "text": [
      "Train on 76053 samples, validate on 19014 samples\n",
      "Epoch 1/5\n",
      "76053/76053 - 23s - loss: 0.5008 - accuracy: 0.8465 - val_loss: 0.1751 - val_accuracy: 0.9529\n",
      "Epoch 2/5\n",
      "76053/76053 - 22s - loss: 0.1318 - accuracy: 0.9618 - val_loss: 0.1173 - val_accuracy: 0.9657\n",
      "Epoch 3/5\n",
      "76053/76053 - 22s - loss: 0.0924 - accuracy: 0.9738 - val_loss: 0.0800 - val_accuracy: 0.9769\n",
      "Epoch 4/5\n",
      "76053/76053 - 21s - loss: 0.0714 - accuracy: 0.9797 - val_loss: 0.0700 - val_accuracy: 0.9782\n",
      "Epoch 5/5\n",
      "76053/76053 - 21s - loss: 0.0591 - accuracy: 0.9829 - val_loss: 0.0573 - val_accuracy: 0.9841\n",
      "Train on 76053 samples, validate on 19014 samples\n",
      "Epoch 1/5\n",
      "76053/76053 - 22s - loss: 0.4252 - accuracy: 0.8705 - val_loss: 0.1581 - val_accuracy: 0.9542\n",
      "Epoch 2/5\n",
      "76053/76053 - 23s - loss: 0.1231 - accuracy: 0.9645 - val_loss: 0.0942 - val_accuracy: 0.9727\n",
      "Epoch 3/5\n",
      "76053/76053 - 22s - loss: 0.0834 - accuracy: 0.9754 - val_loss: 0.0754 - val_accuracy: 0.9781\n",
      "Epoch 4/5\n",
      "76053/76053 - 22s - loss: 0.0632 - accuracy: 0.9815 - val_loss: 0.0613 - val_accuracy: 0.9825\n",
      "Epoch 5/5\n",
      "76053/76053 - 23s - loss: 0.0499 - accuracy: 0.9857 - val_loss: 0.0508 - val_accuracy: 0.9861\n",
      "Train on 76053 samples, validate on 19014 samples\n",
      "Epoch 1/5\n",
      "76053/76053 - 26s - loss: 0.4422 - accuracy: 0.8668 - val_loss: 0.1570 - val_accuracy: 0.9557\n",
      "Epoch 2/5\n",
      "76053/76053 - 23s - loss: 0.1243 - accuracy: 0.9652 - val_loss: 0.1030 - val_accuracy: 0.9715\n",
      "Epoch 3/5\n",
      "76053/76053 - 23s - loss: 0.0849 - accuracy: 0.9758 - val_loss: 0.0735 - val_accuracy: 0.9802\n",
      "Epoch 4/5\n",
      "76053/76053 - 23s - loss: 0.0652 - accuracy: 0.9812 - val_loss: 0.0716 - val_accuracy: 0.9809\n",
      "Epoch 5/5\n",
      "76053/76053 - 23s - loss: 0.0528 - accuracy: 0.9846 - val_loss: 0.0801 - val_accuracy: 0.9745\n",
      "Train on 76053 samples, validate on 19014 samples\n",
      "Epoch 1/5\n",
      "76053/76053 - 23s - loss: 0.4532 - accuracy: 0.8626 - val_loss: 0.1760 - val_accuracy: 0.9463\n",
      "Epoch 2/5\n",
      "76053/76053 - 23s - loss: 0.1341 - accuracy: 0.9610 - val_loss: 0.1047 - val_accuracy: 0.9709\n",
      "Epoch 3/5\n",
      "76053/76053 - 25s - loss: 0.0910 - accuracy: 0.9744 - val_loss: 0.0872 - val_accuracy: 0.9727\n",
      "Epoch 4/5\n",
      "76053/76053 - 23s - loss: 0.0672 - accuracy: 0.9806 - val_loss: 0.0818 - val_accuracy: 0.9766\n",
      "Epoch 5/5\n",
      "76053/76053 - 22s - loss: 0.0542 - accuracy: 0.9842 - val_loss: 0.0489 - val_accuracy: 0.9863\n",
      "Train on 76053 samples, validate on 19014 samples\n",
      "Epoch 1/5\n",
      "76053/76053 - 23s - loss: 0.4987 - accuracy: 0.8461 - val_loss: 0.1837 - val_accuracy: 0.9465\n",
      "Epoch 2/5\n",
      "76053/76053 - 22s - loss: 0.1385 - accuracy: 0.9605 - val_loss: 0.1034 - val_accuracy: 0.9679\n",
      "Epoch 3/5\n",
      "76053/76053 - 22s - loss: 0.0923 - accuracy: 0.9734 - val_loss: 0.0929 - val_accuracy: 0.9710\n",
      "Epoch 4/5\n",
      "76053/76053 - 22s - loss: 0.0682 - accuracy: 0.9803 - val_loss: 0.0674 - val_accuracy: 0.9812\n",
      "Epoch 5/5\n",
      "76053/76053 - 23s - loss: 0.0551 - accuracy: 0.9838 - val_loss: 0.0693 - val_accuracy: 0.9803\n"
     ]
    },
    {
     "data": {
      "text/html": [
       "<span style=\"color:#4527A0\"><h1 style=\"font-size:18px\">Trial complete</h1></span>"
      ],
      "text/plain": [
       "<IPython.core.display.HTML object>"
      ]
     },
     "metadata": {},
     "output_type": "display_data"
    },
    {
     "data": {
      "text/html": [
       "<span style=\"color:#4527A0\"><h1 style=\"font-size:18px\">Trial summary</h1></span>"
      ],
      "text/plain": [
       "<IPython.core.display.HTML object>"
      ]
     },
     "metadata": {},
     "output_type": "display_data"
    },
    {
     "data": {
      "text/html": [
       "<span style=\"color:cyan\"> |-Trial ID: cb7924b10aee1614f6fbb029251e4edb</span>"
      ],
      "text/plain": [
       "<IPython.core.display.HTML object>"
      ]
     },
     "metadata": {},
     "output_type": "display_data"
    },
    {
     "data": {
      "text/html": [
       "<span style=\"color:cyan\"> |-Score: 0.9837383031845093</span>"
      ],
      "text/plain": [
       "<IPython.core.display.HTML object>"
      ]
     },
     "metadata": {},
     "output_type": "display_data"
    },
    {
     "data": {
      "text/html": [
       "<span style=\"color:cyan\"> |-Best step: 0</span>"
      ],
      "text/plain": [
       "<IPython.core.display.HTML object>"
      ]
     },
     "metadata": {},
     "output_type": "display_data"
    },
    {
     "data": {
      "text/html": [
       "<span style=\"color:#7E57C2\"><h2 style=\"font-size:16px\">Hyperparameters:</h2></span>"
      ],
      "text/plain": [
       "<IPython.core.display.HTML object>"
      ]
     },
     "metadata": {},
     "output_type": "display_data"
    },
    {
     "data": {
      "text/html": [
       "<span style=\"color:cyan\"> |-conv_1_units: 16</span>"
      ],
      "text/plain": [
       "<IPython.core.display.HTML object>"
      ]
     },
     "metadata": {},
     "output_type": "display_data"
    },
    {
     "data": {
      "text/html": [
       "<span style=\"color:blue\"> |-conv_2_units: 48</span>"
      ],
      "text/plain": [
       "<IPython.core.display.HTML object>"
      ]
     },
     "metadata": {},
     "output_type": "display_data"
    },
    {
     "data": {
      "text/html": [
       "<span style=\"color:cyan\"> |-conv_3_units: 16</span>"
      ],
      "text/plain": [
       "<IPython.core.display.HTML object>"
      ]
     },
     "metadata": {},
     "output_type": "display_data"
    },
    {
     "data": {
      "text/html": [
       "<span style=\"color:blue\"> |-input_1_units: 64</span>"
      ],
      "text/plain": [
       "<IPython.core.display.HTML object>"
      ]
     },
     "metadata": {},
     "output_type": "display_data"
    },
    {
     "data": {
      "text/html": [
       "<span style=\"color:cyan\"> |-input_2_units: 64</span>"
      ],
      "text/plain": [
       "<IPython.core.display.HTML object>"
      ]
     },
     "metadata": {},
     "output_type": "display_data"
    },
    {
     "data": {
      "text/html": [
       "<span style=\"color:blue\"> |-input_units: 32</span>"
      ],
      "text/plain": [
       "<IPython.core.display.HTML object>"
      ]
     },
     "metadata": {},
     "output_type": "display_data"
    },
    {
     "name": "stdout",
     "output_type": "stream",
     "text": [
      "Train on 76053 samples, validate on 19014 samples\n",
      "Epoch 1/5\n",
      "76053/76053 - 28s - loss: 0.4058 - accuracy: 0.8758 - val_loss: 0.1368 - val_accuracy: 0.9595\n",
      "Epoch 2/5\n",
      "76053/76053 - 27s - loss: 0.1118 - accuracy: 0.9671 - val_loss: 0.0803 - val_accuracy: 0.9741\n",
      "Epoch 3/5\n",
      "76053/76053 - 27s - loss: 0.0725 - accuracy: 0.9787 - val_loss: 0.0740 - val_accuracy: 0.9791\n",
      "Epoch 4/5\n",
      "76053/76053 - 26s - loss: 0.0549 - accuracy: 0.9845 - val_loss: 0.0460 - val_accuracy: 0.9874\n",
      "Epoch 5/5\n",
      "76053/76053 - 26s - loss: 0.0425 - accuracy: 0.9874 - val_loss: 0.0485 - val_accuracy: 0.9861\n",
      "Train on 76053 samples, validate on 19014 samples\n",
      "Epoch 1/5\n",
      "76053/76053 - 29s - loss: 0.4741 - accuracy: 0.8503 - val_loss: 0.1293 - val_accuracy: 0.9635\n",
      "Epoch 2/5\n",
      "76053/76053 - 27s - loss: 0.1126 - accuracy: 0.9669 - val_loss: 0.0790 - val_accuracy: 0.9782\n",
      "Epoch 3/5\n",
      "76053/76053 - 28s - loss: 0.0737 - accuracy: 0.9786 - val_loss: 0.0687 - val_accuracy: 0.9796\n",
      "Epoch 4/5\n",
      "76053/76053 - 26s - loss: 0.0566 - accuracy: 0.9834 - val_loss: 0.0506 - val_accuracy: 0.9865\n",
      "Epoch 5/5\n",
      "76053/76053 - 28s - loss: 0.0431 - accuracy: 0.9871 - val_loss: 0.0437 - val_accuracy: 0.9869\n",
      "Train on 76053 samples, validate on 19014 samples\n",
      "Epoch 1/5\n",
      "76053/76053 - 26s - loss: 0.3478 - accuracy: 0.8942 - val_loss: 0.1139 - val_accuracy: 0.9670\n",
      "Epoch 2/5\n",
      "76053/76053 - 26s - loss: 0.0963 - accuracy: 0.9721 - val_loss: 0.0908 - val_accuracy: 0.9733\n",
      "Epoch 3/5\n",
      "76053/76053 - 27s - loss: 0.0653 - accuracy: 0.9815 - val_loss: 0.0545 - val_accuracy: 0.9845\n",
      "Epoch 4/5\n",
      "76053/76053 - 26s - loss: 0.0500 - accuracy: 0.9853 - val_loss: 0.0660 - val_accuracy: 0.9820\n",
      "Epoch 5/5\n",
      "76053/76053 - 27s - loss: 0.0393 - accuracy: 0.9888 - val_loss: 0.0357 - val_accuracy: 0.9900\n",
      "Train on 76053 samples, validate on 19014 samples\n",
      "Epoch 1/5\n",
      "76053/76053 - 28s - loss: 0.4193 - accuracy: 0.8706 - val_loss: 0.1301 - val_accuracy: 0.9612\n",
      "Epoch 2/5\n",
      "76053/76053 - 26s - loss: 0.1064 - accuracy: 0.9692 - val_loss: 0.1209 - val_accuracy: 0.9646\n",
      "Epoch 3/5\n",
      "76053/76053 - 27s - loss: 0.0710 - accuracy: 0.9796 - val_loss: 0.0702 - val_accuracy: 0.9794\n",
      "Epoch 4/5\n",
      "76053/76053 - 27s - loss: 0.0525 - accuracy: 0.9844 - val_loss: 0.0479 - val_accuracy: 0.9859\n",
      "Epoch 5/5\n",
      "76053/76053 - 26s - loss: 0.0408 - accuracy: 0.9878 - val_loss: 0.0489 - val_accuracy: 0.9862\n",
      "Train on 76053 samples, validate on 19014 samples\n",
      "Epoch 1/5\n",
      "76053/76053 - 27s - loss: 0.3744 - accuracy: 0.8863 - val_loss: 0.1355 - val_accuracy: 0.9613\n",
      "Epoch 2/5\n",
      "76053/76053 - 27s - loss: 0.1037 - accuracy: 0.9705 - val_loss: 0.0851 - val_accuracy: 0.9746\n",
      "Epoch 3/5\n",
      "76053/76053 - 26s - loss: 0.0706 - accuracy: 0.9795 - val_loss: 0.0631 - val_accuracy: 0.9816\n",
      "Epoch 4/5\n",
      "76053/76053 - 27s - loss: 0.0526 - accuracy: 0.9847 - val_loss: 0.0506 - val_accuracy: 0.9854\n",
      "Epoch 5/5\n",
      "76053/76053 - 26s - loss: 0.0394 - accuracy: 0.9885 - val_loss: 0.0388 - val_accuracy: 0.9884\n"
     ]
    },
    {
     "data": {
      "text/html": [
       "<span style=\"color:#4527A0\"><h1 style=\"font-size:18px\">Trial complete</h1></span>"
      ],
      "text/plain": [
       "<IPython.core.display.HTML object>"
      ]
     },
     "metadata": {},
     "output_type": "display_data"
    },
    {
     "data": {
      "text/html": [
       "<span style=\"color:#4527A0\"><h1 style=\"font-size:18px\">Trial summary</h1></span>"
      ],
      "text/plain": [
       "<IPython.core.display.HTML object>"
      ]
     },
     "metadata": {},
     "output_type": "display_data"
    },
    {
     "data": {
      "text/html": [
       "<span style=\"color:cyan\"> |-Trial ID: e2a6e502fed6343a61a1021f9a21b940</span>"
      ],
      "text/plain": [
       "<IPython.core.display.HTML object>"
      ]
     },
     "metadata": {},
     "output_type": "display_data"
    },
    {
     "data": {
      "text/html": [
       "<span style=\"color:cyan\"> |-Score: 0.9877669215202332</span>"
      ],
      "text/plain": [
       "<IPython.core.display.HTML object>"
      ]
     },
     "metadata": {},
     "output_type": "display_data"
    },
    {
     "data": {
      "text/html": [
       "<span style=\"color:cyan\"> |-Best step: 0</span>"
      ],
      "text/plain": [
       "<IPython.core.display.HTML object>"
      ]
     },
     "metadata": {},
     "output_type": "display_data"
    },
    {
     "data": {
      "text/html": [
       "<span style=\"color:#7E57C2\"><h2 style=\"font-size:16px\">Hyperparameters:</h2></span>"
      ],
      "text/plain": [
       "<IPython.core.display.HTML object>"
      ]
     },
     "metadata": {},
     "output_type": "display_data"
    },
    {
     "data": {
      "text/html": [
       "<span style=\"color:cyan\"> |-conv_1_units: 48</span>"
      ],
      "text/plain": [
       "<IPython.core.display.HTML object>"
      ]
     },
     "metadata": {},
     "output_type": "display_data"
    },
    {
     "data": {
      "text/html": [
       "<span style=\"color:blue\"> |-conv_2_units: 32</span>"
      ],
      "text/plain": [
       "<IPython.core.display.HTML object>"
      ]
     },
     "metadata": {},
     "output_type": "display_data"
    },
    {
     "data": {
      "text/html": [
       "<span style=\"color:cyan\"> |-conv_3_units: 32</span>"
      ],
      "text/plain": [
       "<IPython.core.display.HTML object>"
      ]
     },
     "metadata": {},
     "output_type": "display_data"
    },
    {
     "data": {
      "text/html": [
       "<span style=\"color:blue\"> |-input_1_units: 64</span>"
      ],
      "text/plain": [
       "<IPython.core.display.HTML object>"
      ]
     },
     "metadata": {},
     "output_type": "display_data"
    },
    {
     "data": {
      "text/html": [
       "<span style=\"color:cyan\"> |-input_2_units: 128</span>"
      ],
      "text/plain": [
       "<IPython.core.display.HTML object>"
      ]
     },
     "metadata": {},
     "output_type": "display_data"
    },
    {
     "data": {
      "text/html": [
       "<span style=\"color:blue\"> |-input_units: 80</span>"
      ],
      "text/plain": [
       "<IPython.core.display.HTML object>"
      ]
     },
     "metadata": {},
     "output_type": "display_data"
    },
    {
     "name": "stdout",
     "output_type": "stream",
     "text": [
      "Train on 76053 samples, validate on 19014 samples\n",
      "Epoch 1/5\n",
      "76053/76053 - 32s - loss: 0.3296 - accuracy: 0.8949 - val_loss: 0.0836 - val_accuracy: 0.9760\n",
      "Epoch 2/5\n",
      "76053/76053 - 29s - loss: 0.0654 - accuracy: 0.9808 - val_loss: 0.0437 - val_accuracy: 0.9862\n",
      "Epoch 3/5\n",
      "76053/76053 - 29s - loss: 0.0423 - accuracy: 0.9877 - val_loss: 0.0660 - val_accuracy: 0.9821\n",
      "Epoch 4/5\n",
      "76053/76053 - 59s - loss: 0.0292 - accuracy: 0.9916 - val_loss: 0.0417 - val_accuracy: 0.9880\n",
      "Epoch 5/5\n",
      "76053/76053 - 60s - loss: 0.0230 - accuracy: 0.9936 - val_loss: 0.0210 - val_accuracy: 0.9946\n",
      "Train on 76053 samples, validate on 19014 samples\n",
      "Epoch 1/5\n",
      "76053/76053 - 61s - loss: 0.3013 - accuracy: 0.9060 - val_loss: 0.0977 - val_accuracy: 0.9714\n",
      "Epoch 2/5\n",
      "76053/76053 - 59s - loss: 0.0700 - accuracy: 0.9799 - val_loss: 0.0566 - val_accuracy: 0.9819\n",
      "Epoch 3/5\n",
      "76053/76053 - 58s - loss: 0.0450 - accuracy: 0.9868 - val_loss: 0.0377 - val_accuracy: 0.9891\n",
      "Epoch 4/5\n",
      "76053/76053 - 59s - loss: 0.0328 - accuracy: 0.9903 - val_loss: 0.0328 - val_accuracy: 0.9901\n",
      "Epoch 5/5\n",
      "76053/76053 - 59s - loss: 0.0245 - accuracy: 0.9927 - val_loss: 0.0292 - val_accuracy: 0.9915\n",
      "Train on 76053 samples, validate on 19014 samples\n",
      "Epoch 1/5\n",
      "76053/76053 - 60s - loss: 0.3026 - accuracy: 0.9061 - val_loss: 0.0970 - val_accuracy: 0.9715\n",
      "Epoch 2/5\n",
      "76053/76053 - 59s - loss: 0.0666 - accuracy: 0.9813 - val_loss: 0.0534 - val_accuracy: 0.9839\n",
      "Epoch 3/5\n",
      "76053/76053 - 59s - loss: 0.0442 - accuracy: 0.9878 - val_loss: 0.0478 - val_accuracy: 0.9867\n",
      "Epoch 4/5\n",
      "76053/76053 - 58s - loss: 0.0321 - accuracy: 0.9904 - val_loss: 0.0276 - val_accuracy: 0.9917\n",
      "Epoch 5/5\n",
      "76053/76053 - 57s - loss: 0.0248 - accuracy: 0.9929 - val_loss: 0.0676 - val_accuracy: 0.9800\n",
      "Train on 76053 samples, validate on 19014 samples\n",
      "Epoch 1/5\n",
      "76053/76053 - 58s - loss: 0.2955 - accuracy: 0.9086 - val_loss: 0.0876 - val_accuracy: 0.9751\n",
      "Epoch 2/5\n",
      "76053/76053 - 57s - loss: 0.0713 - accuracy: 0.9794 - val_loss: 0.0543 - val_accuracy: 0.9832\n",
      "Epoch 3/5\n",
      "76053/76053 - 57s - loss: 0.0436 - accuracy: 0.9873 - val_loss: 0.0348 - val_accuracy: 0.9898\n",
      "Epoch 4/5\n",
      "76053/76053 - 57s - loss: 0.0325 - accuracy: 0.9908 - val_loss: 0.0430 - val_accuracy: 0.9885\n",
      "Epoch 5/5\n",
      "76053/76053 - 57s - loss: 0.0247 - accuracy: 0.9931 - val_loss: 0.0220 - val_accuracy: 0.9941\n",
      "Train on 76053 samples, validate on 19014 samples\n",
      "Epoch 1/5\n",
      "76053/76053 - 57s - loss: 0.2922 - accuracy: 0.9092 - val_loss: 0.0853 - val_accuracy: 0.9744\n",
      "Epoch 2/5\n",
      "76053/76053 - 56s - loss: 0.0668 - accuracy: 0.9808 - val_loss: 0.0565 - val_accuracy: 0.9834\n",
      "Epoch 3/5\n",
      "76053/76053 - 57s - loss: 0.0428 - accuracy: 0.9878 - val_loss: 0.0519 - val_accuracy: 0.9844\n",
      "Epoch 4/5\n",
      "76053/76053 - 57s - loss: 0.0323 - accuracy: 0.9905 - val_loss: 0.0270 - val_accuracy: 0.9917\n",
      "Epoch 5/5\n",
      "76053/76053 - 59s - loss: 0.0232 - accuracy: 0.9932 - val_loss: 0.0270 - val_accuracy: 0.9930\n"
     ]
    },
    {
     "data": {
      "text/html": [
       "<span style=\"color:#4527A0\"><h1 style=\"font-size:18px\">Trial complete</h1></span>"
      ],
      "text/plain": [
       "<IPython.core.display.HTML object>"
      ]
     },
     "metadata": {},
     "output_type": "display_data"
    },
    {
     "data": {
      "text/html": [
       "<span style=\"color:#4527A0\"><h1 style=\"font-size:18px\">Trial summary</h1></span>"
      ],
      "text/plain": [
       "<IPython.core.display.HTML object>"
      ]
     },
     "metadata": {},
     "output_type": "display_data"
    },
    {
     "data": {
      "text/html": [
       "<span style=\"color:cyan\"> |-Trial ID: 1a2c9a5670f170e880c884f0f605059c</span>"
      ],
      "text/plain": [
       "<IPython.core.display.HTML object>"
      ]
     },
     "metadata": {},
     "output_type": "display_data"
    },
    {
     "data": {
      "text/html": [
       "<span style=\"color:cyan\"> |-Score: 0.9929736256599426</span>"
      ],
      "text/plain": [
       "<IPython.core.display.HTML object>"
      ]
     },
     "metadata": {},
     "output_type": "display_data"
    },
    {
     "data": {
      "text/html": [
       "<span style=\"color:cyan\"> |-Best step: 0</span>"
      ],
      "text/plain": [
       "<IPython.core.display.HTML object>"
      ]
     },
     "metadata": {},
     "output_type": "display_data"
    },
    {
     "data": {
      "text/html": [
       "<span style=\"color:#7E57C2\"><h2 style=\"font-size:16px\">Hyperparameters:</h2></span>"
      ],
      "text/plain": [
       "<IPython.core.display.HTML object>"
      ]
     },
     "metadata": {},
     "output_type": "display_data"
    },
    {
     "data": {
      "text/html": [
       "<span style=\"color:cyan\"> |-conv_1_units: 32</span>"
      ],
      "text/plain": [
       "<IPython.core.display.HTML object>"
      ]
     },
     "metadata": {},
     "output_type": "display_data"
    },
    {
     "data": {
      "text/html": [
       "<span style=\"color:blue\"> |-conv_2_units: 128</span>"
      ],
      "text/plain": [
       "<IPython.core.display.HTML object>"
      ]
     },
     "metadata": {},
     "output_type": "display_data"
    },
    {
     "data": {
      "text/html": [
       "<span style=\"color:cyan\"> |-conv_3_units: 112</span>"
      ],
      "text/plain": [
       "<IPython.core.display.HTML object>"
      ]
     },
     "metadata": {},
     "output_type": "display_data"
    },
    {
     "data": {
      "text/html": [
       "<span style=\"color:blue\"> |-input_1_units: 256</span>"
      ],
      "text/plain": [
       "<IPython.core.display.HTML object>"
      ]
     },
     "metadata": {},
     "output_type": "display_data"
    },
    {
     "data": {
      "text/html": [
       "<span style=\"color:cyan\"> |-input_2_units: 192</span>"
      ],
      "text/plain": [
       "<IPython.core.display.HTML object>"
      ]
     },
     "metadata": {},
     "output_type": "display_data"
    },
    {
     "data": {
      "text/html": [
       "<span style=\"color:blue\"> |-input_units: 64</span>"
      ],
      "text/plain": [
       "<IPython.core.display.HTML object>"
      ]
     },
     "metadata": {},
     "output_type": "display_data"
    },
    {
     "name": "stdout",
     "output_type": "stream",
     "text": [
      "INFO:tensorflow:Oracle triggered exit\n"
     ]
    },
    {
     "data": {
      "text/html": [
       "<span style=\"color:#4527A0\"><h1 style=\"font-size:18px\">Results summary</h1></span>"
      ],
      "text/plain": [
       "<IPython.core.display.HTML object>"
      ]
     },
     "metadata": {},
     "output_type": "display_data"
    },
    {
     "data": {
      "text/html": [
       "<span style=\"color:cyan\"> |-Results in C:\\Users\\eleeh\\Documents\\untitled_project</span>"
      ],
      "text/plain": [
       "<IPython.core.display.HTML object>"
      ]
     },
     "metadata": {},
     "output_type": "display_data"
    },
    {
     "data": {
      "text/html": [
       "<span style=\"color:cyan\"> |-Showing 10 best trials</span>"
      ],
      "text/plain": [
       "<IPython.core.display.HTML object>"
      ]
     },
     "metadata": {},
     "output_type": "display_data"
    },
    {
     "data": {
      "text/html": [
       "<span style=\"color:cyan\"> |-Objective(name='val_accuracy', direction='max')</span>"
      ],
      "text/plain": [
       "<IPython.core.display.HTML object>"
      ]
     },
     "metadata": {},
     "output_type": "display_data"
    },
    {
     "data": {
      "text/html": [
       "<span style=\"color:#4527A0\"><h1 style=\"font-size:18px\">Trial summary</h1></span>"
      ],
      "text/plain": [
       "<IPython.core.display.HTML object>"
      ]
     },
     "metadata": {},
     "output_type": "display_data"
    },
    {
     "data": {
      "text/html": [
       "<span style=\"color:cyan\"> |-Trial ID: 1a2c9a5670f170e880c884f0f605059c</span>"
      ],
      "text/plain": [
       "<IPython.core.display.HTML object>"
      ]
     },
     "metadata": {},
     "output_type": "display_data"
    },
    {
     "data": {
      "text/html": [
       "<span style=\"color:cyan\"> |-Score: 0.9929736256599426</span>"
      ],
      "text/plain": [
       "<IPython.core.display.HTML object>"
      ]
     },
     "metadata": {},
     "output_type": "display_data"
    },
    {
     "data": {
      "text/html": [
       "<span style=\"color:cyan\"> |-Best step: 0</span>"
      ],
      "text/plain": [
       "<IPython.core.display.HTML object>"
      ]
     },
     "metadata": {},
     "output_type": "display_data"
    },
    {
     "data": {
      "text/html": [
       "<span style=\"color:#7E57C2\"><h2 style=\"font-size:16px\">Hyperparameters:</h2></span>"
      ],
      "text/plain": [
       "<IPython.core.display.HTML object>"
      ]
     },
     "metadata": {},
     "output_type": "display_data"
    },
    {
     "data": {
      "text/html": [
       "<span style=\"color:cyan\"> |-conv_1_units: 32</span>"
      ],
      "text/plain": [
       "<IPython.core.display.HTML object>"
      ]
     },
     "metadata": {},
     "output_type": "display_data"
    },
    {
     "data": {
      "text/html": [
       "<span style=\"color:blue\"> |-conv_2_units: 128</span>"
      ],
      "text/plain": [
       "<IPython.core.display.HTML object>"
      ]
     },
     "metadata": {},
     "output_type": "display_data"
    },
    {
     "data": {
      "text/html": [
       "<span style=\"color:cyan\"> |-conv_3_units: 112</span>"
      ],
      "text/plain": [
       "<IPython.core.display.HTML object>"
      ]
     },
     "metadata": {},
     "output_type": "display_data"
    },
    {
     "data": {
      "text/html": [
       "<span style=\"color:blue\"> |-input_1_units: 256</span>"
      ],
      "text/plain": [
       "<IPython.core.display.HTML object>"
      ]
     },
     "metadata": {},
     "output_type": "display_data"
    },
    {
     "data": {
      "text/html": [
       "<span style=\"color:cyan\"> |-input_2_units: 192</span>"
      ],
      "text/plain": [
       "<IPython.core.display.HTML object>"
      ]
     },
     "metadata": {},
     "output_type": "display_data"
    },
    {
     "data": {
      "text/html": [
       "<span style=\"color:blue\"> |-input_units: 64</span>"
      ],
      "text/plain": [
       "<IPython.core.display.HTML object>"
      ]
     },
     "metadata": {},
     "output_type": "display_data"
    },
    {
     "data": {
      "text/html": [
       "<span style=\"color:#4527A0\"><h1 style=\"font-size:18px\">Trial summary</h1></span>"
      ],
      "text/plain": [
       "<IPython.core.display.HTML object>"
      ]
     },
     "metadata": {},
     "output_type": "display_data"
    },
    {
     "data": {
      "text/html": [
       "<span style=\"color:cyan\"> |-Trial ID: 298afd461d615b28929abadf6e3d28d7</span>"
      ],
      "text/plain": [
       "<IPython.core.display.HTML object>"
      ]
     },
     "metadata": {},
     "output_type": "display_data"
    },
    {
     "data": {
      "text/html": [
       "<span style=\"color:cyan\"> |-Score: 0.9923635721206665</span>"
      ],
      "text/plain": [
       "<IPython.core.display.HTML object>"
      ]
     },
     "metadata": {},
     "output_type": "display_data"
    },
    {
     "data": {
      "text/html": [
       "<span style=\"color:cyan\"> |-Best step: 0</span>"
      ],
      "text/plain": [
       "<IPython.core.display.HTML object>"
      ]
     },
     "metadata": {},
     "output_type": "display_data"
    },
    {
     "data": {
      "text/html": [
       "<span style=\"color:#7E57C2\"><h2 style=\"font-size:16px\">Hyperparameters:</h2></span>"
      ],
      "text/plain": [
       "<IPython.core.display.HTML object>"
      ]
     },
     "metadata": {},
     "output_type": "display_data"
    },
    {
     "data": {
      "text/html": [
       "<span style=\"color:cyan\"> |-conv_1_units: 112</span>"
      ],
      "text/plain": [
       "<IPython.core.display.HTML object>"
      ]
     },
     "metadata": {},
     "output_type": "display_data"
    },
    {
     "data": {
      "text/html": [
       "<span style=\"color:blue\"> |-conv_2_units: 96</span>"
      ],
      "text/plain": [
       "<IPython.core.display.HTML object>"
      ]
     },
     "metadata": {},
     "output_type": "display_data"
    },
    {
     "data": {
      "text/html": [
       "<span style=\"color:cyan\"> |-conv_3_units: 48</span>"
      ],
      "text/plain": [
       "<IPython.core.display.HTML object>"
      ]
     },
     "metadata": {},
     "output_type": "display_data"
    },
    {
     "data": {
      "text/html": [
       "<span style=\"color:blue\"> |-input_1_units: 256</span>"
      ],
      "text/plain": [
       "<IPython.core.display.HTML object>"
      ]
     },
     "metadata": {},
     "output_type": "display_data"
    },
    {
     "data": {
      "text/html": [
       "<span style=\"color:cyan\"> |-input_2_units: 128</span>"
      ],
      "text/plain": [
       "<IPython.core.display.HTML object>"
      ]
     },
     "metadata": {},
     "output_type": "display_data"
    },
    {
     "data": {
      "text/html": [
       "<span style=\"color:blue\"> |-input_units: 96</span>"
      ],
      "text/plain": [
       "<IPython.core.display.HTML object>"
      ]
     },
     "metadata": {},
     "output_type": "display_data"
    },
    {
     "data": {
      "text/html": [
       "<span style=\"color:#4527A0\"><h1 style=\"font-size:18px\">Trial summary</h1></span>"
      ],
      "text/plain": [
       "<IPython.core.display.HTML object>"
      ]
     },
     "metadata": {},
     "output_type": "display_data"
    },
    {
     "data": {
      "text/html": [
       "<span style=\"color:cyan\"> |-Trial ID: 075e4b9f20fa280c1a7939c48059f9ca</span>"
      ],
      "text/plain": [
       "<IPython.core.display.HTML object>"
      ]
     },
     "metadata": {},
     "output_type": "display_data"
    },
    {
     "data": {
      "text/html": [
       "<span style=\"color:cyan\"> |-Score: 0.9917725324630737</span>"
      ],
      "text/plain": [
       "<IPython.core.display.HTML object>"
      ]
     },
     "metadata": {},
     "output_type": "display_data"
    },
    {
     "data": {
      "text/html": [
       "<span style=\"color:cyan\"> |-Best step: 0</span>"
      ],
      "text/plain": [
       "<IPython.core.display.HTML object>"
      ]
     },
     "metadata": {},
     "output_type": "display_data"
    },
    {
     "data": {
      "text/html": [
       "<span style=\"color:#7E57C2\"><h2 style=\"font-size:16px\">Hyperparameters:</h2></span>"
      ],
      "text/plain": [
       "<IPython.core.display.HTML object>"
      ]
     },
     "metadata": {},
     "output_type": "display_data"
    },
    {
     "data": {
      "text/html": [
       "<span style=\"color:cyan\"> |-input_units: 96</span>"
      ],
      "text/plain": [
       "<IPython.core.display.HTML object>"
      ]
     },
     "metadata": {},
     "output_type": "display_data"
    },
    {
     "data": {
      "text/html": [
       "<span style=\"color:#4527A0\"><h1 style=\"font-size:18px\">Trial summary</h1></span>"
      ],
      "text/plain": [
       "<IPython.core.display.HTML object>"
      ]
     },
     "metadata": {},
     "output_type": "display_data"
    },
    {
     "data": {
      "text/html": [
       "<span style=\"color:cyan\"> |-Trial ID: 76343401195165d8387a1ad95994328b</span>"
      ],
      "text/plain": [
       "<IPython.core.display.HTML object>"
      ]
     },
     "metadata": {},
     "output_type": "display_data"
    },
    {
     "data": {
      "text/html": [
       "<span style=\"color:cyan\"> |-Score: 0.9910171627998352</span>"
      ],
      "text/plain": [
       "<IPython.core.display.HTML object>"
      ]
     },
     "metadata": {},
     "output_type": "display_data"
    },
    {
     "data": {
      "text/html": [
       "<span style=\"color:cyan\"> |-Best step: 0</span>"
      ],
      "text/plain": [
       "<IPython.core.display.HTML object>"
      ]
     },
     "metadata": {},
     "output_type": "display_data"
    },
    {
     "data": {
      "text/html": [
       "<span style=\"color:#7E57C2\"><h2 style=\"font-size:16px\">Hyperparameters:</h2></span>"
      ],
      "text/plain": [
       "<IPython.core.display.HTML object>"
      ]
     },
     "metadata": {},
     "output_type": "display_data"
    },
    {
     "data": {
      "text/html": [
       "<span style=\"color:cyan\"> |-conv_1_units: 80</span>"
      ],
      "text/plain": [
       "<IPython.core.display.HTML object>"
      ]
     },
     "metadata": {},
     "output_type": "display_data"
    },
    {
     "data": {
      "text/html": [
       "<span style=\"color:blue\"> |-conv_2_units: 16</span>"
      ],
      "text/plain": [
       "<IPython.core.display.HTML object>"
      ]
     },
     "metadata": {},
     "output_type": "display_data"
    },
    {
     "data": {
      "text/html": [
       "<span style=\"color:cyan\"> |-conv_3_units: 112</span>"
      ],
      "text/plain": [
       "<IPython.core.display.HTML object>"
      ]
     },
     "metadata": {},
     "output_type": "display_data"
    },
    {
     "data": {
      "text/html": [
       "<span style=\"color:blue\"> |-input_1_units: 128</span>"
      ],
      "text/plain": [
       "<IPython.core.display.HTML object>"
      ]
     },
     "metadata": {},
     "output_type": "display_data"
    },
    {
     "data": {
      "text/html": [
       "<span style=\"color:cyan\"> |-input_2_units: 192</span>"
      ],
      "text/plain": [
       "<IPython.core.display.HTML object>"
      ]
     },
     "metadata": {},
     "output_type": "display_data"
    },
    {
     "data": {
      "text/html": [
       "<span style=\"color:blue\"> |-input_units: 32</span>"
      ],
      "text/plain": [
       "<IPython.core.display.HTML object>"
      ]
     },
     "metadata": {},
     "output_type": "display_data"
    },
    {
     "data": {
      "text/html": [
       "<span style=\"color:#4527A0\"><h1 style=\"font-size:18px\">Trial summary</h1></span>"
      ],
      "text/plain": [
       "<IPython.core.display.HTML object>"
      ]
     },
     "metadata": {},
     "output_type": "display_data"
    },
    {
     "data": {
      "text/html": [
       "<span style=\"color:cyan\"> |-Trial ID: ddadf714152d362d2bd9497f985b7587</span>"
      ],
      "text/plain": [
       "<IPython.core.display.HTML object>"
      ]
     },
     "metadata": {},
     "output_type": "display_data"
    },
    {
     "data": {
      "text/html": [
       "<span style=\"color:cyan\"> |-Score: 0.9903334379196167</span>"
      ],
      "text/plain": [
       "<IPython.core.display.HTML object>"
      ]
     },
     "metadata": {},
     "output_type": "display_data"
    },
    {
     "data": {
      "text/html": [
       "<span style=\"color:cyan\"> |-Best step: 0</span>"
      ],
      "text/plain": [
       "<IPython.core.display.HTML object>"
      ]
     },
     "metadata": {},
     "output_type": "display_data"
    },
    {
     "data": {
      "text/html": [
       "<span style=\"color:#7E57C2\"><h2 style=\"font-size:16px\">Hyperparameters:</h2></span>"
      ],
      "text/plain": [
       "<IPython.core.display.HTML object>"
      ]
     },
     "metadata": {},
     "output_type": "display_data"
    },
    {
     "data": {
      "text/html": [
       "<span style=\"color:cyan\"> |-conv_1_units: 80</span>"
      ],
      "text/plain": [
       "<IPython.core.display.HTML object>"
      ]
     },
     "metadata": {},
     "output_type": "display_data"
    },
    {
     "data": {
      "text/html": [
       "<span style=\"color:blue\"> |-conv_2_units: 112</span>"
      ],
      "text/plain": [
       "<IPython.core.display.HTML object>"
      ]
     },
     "metadata": {},
     "output_type": "display_data"
    },
    {
     "data": {
      "text/html": [
       "<span style=\"color:cyan\"> |-conv_3_units: 32</span>"
      ],
      "text/plain": [
       "<IPython.core.display.HTML object>"
      ]
     },
     "metadata": {},
     "output_type": "display_data"
    },
    {
     "data": {
      "text/html": [
       "<span style=\"color:blue\"> |-input_1_units: 128</span>"
      ],
      "text/plain": [
       "<IPython.core.display.HTML object>"
      ]
     },
     "metadata": {},
     "output_type": "display_data"
    },
    {
     "data": {
      "text/html": [
       "<span style=\"color:cyan\"> |-input_2_units: 192</span>"
      ],
      "text/plain": [
       "<IPython.core.display.HTML object>"
      ]
     },
     "metadata": {},
     "output_type": "display_data"
    },
    {
     "data": {
      "text/html": [
       "<span style=\"color:blue\"> |-input_units: 112</span>"
      ],
      "text/plain": [
       "<IPython.core.display.HTML object>"
      ]
     },
     "metadata": {},
     "output_type": "display_data"
    },
    {
     "data": {
      "text/html": [
       "<span style=\"color:#4527A0\"><h1 style=\"font-size:18px\">Trial summary</h1></span>"
      ],
      "text/plain": [
       "<IPython.core.display.HTML object>"
      ]
     },
     "metadata": {},
     "output_type": "display_data"
    },
    {
     "data": {
      "text/html": [
       "<span style=\"color:cyan\"> |-Trial ID: dbbe3cd594231309c940339ed5495820</span>"
      ],
      "text/plain": [
       "<IPython.core.display.HTML object>"
      ]
     },
     "metadata": {},
     "output_type": "display_data"
    },
    {
     "data": {
      "text/html": [
       "<span style=\"color:cyan\"> |-Score: 0.9892921447753906</span>"
      ],
      "text/plain": [
       "<IPython.core.display.HTML object>"
      ]
     },
     "metadata": {},
     "output_type": "display_data"
    },
    {
     "data": {
      "text/html": [
       "<span style=\"color:cyan\"> |-Best step: 0</span>"
      ],
      "text/plain": [
       "<IPython.core.display.HTML object>"
      ]
     },
     "metadata": {},
     "output_type": "display_data"
    },
    {
     "data": {
      "text/html": [
       "<span style=\"color:#7E57C2\"><h2 style=\"font-size:16px\">Hyperparameters:</h2></span>"
      ],
      "text/plain": [
       "<IPython.core.display.HTML object>"
      ]
     },
     "metadata": {},
     "output_type": "display_data"
    },
    {
     "data": {
      "text/html": [
       "<span style=\"color:cyan\"> |-conv_1_units: 64</span>"
      ],
      "text/plain": [
       "<IPython.core.display.HTML object>"
      ]
     },
     "metadata": {},
     "output_type": "display_data"
    },
    {
     "data": {
      "text/html": [
       "<span style=\"color:blue\"> |-conv_2_units: 16</span>"
      ],
      "text/plain": [
       "<IPython.core.display.HTML object>"
      ]
     },
     "metadata": {},
     "output_type": "display_data"
    },
    {
     "data": {
      "text/html": [
       "<span style=\"color:cyan\"> |-conv_3_units: 80</span>"
      ],
      "text/plain": [
       "<IPython.core.display.HTML object>"
      ]
     },
     "metadata": {},
     "output_type": "display_data"
    },
    {
     "data": {
      "text/html": [
       "<span style=\"color:blue\"> |-input_1_units: 192</span>"
      ],
      "text/plain": [
       "<IPython.core.display.HTML object>"
      ]
     },
     "metadata": {},
     "output_type": "display_data"
    },
    {
     "data": {
      "text/html": [
       "<span style=\"color:cyan\"> |-input_2_units: 64</span>"
      ],
      "text/plain": [
       "<IPython.core.display.HTML object>"
      ]
     },
     "metadata": {},
     "output_type": "display_data"
    },
    {
     "data": {
      "text/html": [
       "<span style=\"color:blue\"> |-input_units: 80</span>"
      ],
      "text/plain": [
       "<IPython.core.display.HTML object>"
      ]
     },
     "metadata": {},
     "output_type": "display_data"
    },
    {
     "data": {
      "text/html": [
       "<span style=\"color:#4527A0\"><h1 style=\"font-size:18px\">Trial summary</h1></span>"
      ],
      "text/plain": [
       "<IPython.core.display.HTML object>"
      ]
     },
     "metadata": {},
     "output_type": "display_data"
    },
    {
     "data": {
      "text/html": [
       "<span style=\"color:cyan\"> |-Trial ID: ca5120ff07a84e89941f98ff3c5ac7a7</span>"
      ],
      "text/plain": [
       "<IPython.core.display.HTML object>"
      ]
     },
     "metadata": {},
     "output_type": "display_data"
    },
    {
     "data": {
      "text/html": [
       "<span style=\"color:cyan\"> |-Score: 0.9883979558944702</span>"
      ],
      "text/plain": [
       "<IPython.core.display.HTML object>"
      ]
     },
     "metadata": {},
     "output_type": "display_data"
    },
    {
     "data": {
      "text/html": [
       "<span style=\"color:cyan\"> |-Best step: 0</span>"
      ],
      "text/plain": [
       "<IPython.core.display.HTML object>"
      ]
     },
     "metadata": {},
     "output_type": "display_data"
    },
    {
     "data": {
      "text/html": [
       "<span style=\"color:#7E57C2\"><h2 style=\"font-size:16px\">Hyperparameters:</h2></span>"
      ],
      "text/plain": [
       "<IPython.core.display.HTML object>"
      ]
     },
     "metadata": {},
     "output_type": "display_data"
    },
    {
     "data": {
      "text/html": [
       "<span style=\"color:cyan\"> |-conv_1_units: 48</span>"
      ],
      "text/plain": [
       "<IPython.core.display.HTML object>"
      ]
     },
     "metadata": {},
     "output_type": "display_data"
    },
    {
     "data": {
      "text/html": [
       "<span style=\"color:blue\"> |-conv_2_units: 80</span>"
      ],
      "text/plain": [
       "<IPython.core.display.HTML object>"
      ]
     },
     "metadata": {},
     "output_type": "display_data"
    },
    {
     "data": {
      "text/html": [
       "<span style=\"color:cyan\"> |-conv_3_units: 32</span>"
      ],
      "text/plain": [
       "<IPython.core.display.HTML object>"
      ]
     },
     "metadata": {},
     "output_type": "display_data"
    },
    {
     "data": {
      "text/html": [
       "<span style=\"color:blue\"> |-input_1_units: 128</span>"
      ],
      "text/plain": [
       "<IPython.core.display.HTML object>"
      ]
     },
     "metadata": {},
     "output_type": "display_data"
    },
    {
     "data": {
      "text/html": [
       "<span style=\"color:cyan\"> |-input_2_units: 64</span>"
      ],
      "text/plain": [
       "<IPython.core.display.HTML object>"
      ]
     },
     "metadata": {},
     "output_type": "display_data"
    },
    {
     "data": {
      "text/html": [
       "<span style=\"color:blue\"> |-input_units: 48</span>"
      ],
      "text/plain": [
       "<IPython.core.display.HTML object>"
      ]
     },
     "metadata": {},
     "output_type": "display_data"
    },
    {
     "data": {
      "text/html": [
       "<span style=\"color:#4527A0\"><h1 style=\"font-size:18px\">Trial summary</h1></span>"
      ],
      "text/plain": [
       "<IPython.core.display.HTML object>"
      ]
     },
     "metadata": {},
     "output_type": "display_data"
    },
    {
     "data": {
      "text/html": [
       "<span style=\"color:cyan\"> |-Trial ID: e2a6e502fed6343a61a1021f9a21b940</span>"
      ],
      "text/plain": [
       "<IPython.core.display.HTML object>"
      ]
     },
     "metadata": {},
     "output_type": "display_data"
    },
    {
     "data": {
      "text/html": [
       "<span style=\"color:cyan\"> |-Score: 0.9877669215202332</span>"
      ],
      "text/plain": [
       "<IPython.core.display.HTML object>"
      ]
     },
     "metadata": {},
     "output_type": "display_data"
    },
    {
     "data": {
      "text/html": [
       "<span style=\"color:cyan\"> |-Best step: 0</span>"
      ],
      "text/plain": [
       "<IPython.core.display.HTML object>"
      ]
     },
     "metadata": {},
     "output_type": "display_data"
    },
    {
     "data": {
      "text/html": [
       "<span style=\"color:#7E57C2\"><h2 style=\"font-size:16px\">Hyperparameters:</h2></span>"
      ],
      "text/plain": [
       "<IPython.core.display.HTML object>"
      ]
     },
     "metadata": {},
     "output_type": "display_data"
    },
    {
     "data": {
      "text/html": [
       "<span style=\"color:cyan\"> |-conv_1_units: 48</span>"
      ],
      "text/plain": [
       "<IPython.core.display.HTML object>"
      ]
     },
     "metadata": {},
     "output_type": "display_data"
    },
    {
     "data": {
      "text/html": [
       "<span style=\"color:blue\"> |-conv_2_units: 32</span>"
      ],
      "text/plain": [
       "<IPython.core.display.HTML object>"
      ]
     },
     "metadata": {},
     "output_type": "display_data"
    },
    {
     "data": {
      "text/html": [
       "<span style=\"color:cyan\"> |-conv_3_units: 32</span>"
      ],
      "text/plain": [
       "<IPython.core.display.HTML object>"
      ]
     },
     "metadata": {},
     "output_type": "display_data"
    },
    {
     "data": {
      "text/html": [
       "<span style=\"color:blue\"> |-input_1_units: 64</span>"
      ],
      "text/plain": [
       "<IPython.core.display.HTML object>"
      ]
     },
     "metadata": {},
     "output_type": "display_data"
    },
    {
     "data": {
      "text/html": [
       "<span style=\"color:cyan\"> |-input_2_units: 128</span>"
      ],
      "text/plain": [
       "<IPython.core.display.HTML object>"
      ]
     },
     "metadata": {},
     "output_type": "display_data"
    },
    {
     "data": {
      "text/html": [
       "<span style=\"color:blue\"> |-input_units: 80</span>"
      ],
      "text/plain": [
       "<IPython.core.display.HTML object>"
      ]
     },
     "metadata": {},
     "output_type": "display_data"
    },
    {
     "data": {
      "text/html": [
       "<span style=\"color:#4527A0\"><h1 style=\"font-size:18px\">Trial summary</h1></span>"
      ],
      "text/plain": [
       "<IPython.core.display.HTML object>"
      ]
     },
     "metadata": {},
     "output_type": "display_data"
    },
    {
     "data": {
      "text/html": [
       "<span style=\"color:cyan\"> |-Trial ID: cb7924b10aee1614f6fbb029251e4edb</span>"
      ],
      "text/plain": [
       "<IPython.core.display.HTML object>"
      ]
     },
     "metadata": {},
     "output_type": "display_data"
    },
    {
     "data": {
      "text/html": [
       "<span style=\"color:cyan\"> |-Score: 0.9837383031845093</span>"
      ],
      "text/plain": [
       "<IPython.core.display.HTML object>"
      ]
     },
     "metadata": {},
     "output_type": "display_data"
    },
    {
     "data": {
      "text/html": [
       "<span style=\"color:cyan\"> |-Best step: 0</span>"
      ],
      "text/plain": [
       "<IPython.core.display.HTML object>"
      ]
     },
     "metadata": {},
     "output_type": "display_data"
    },
    {
     "data": {
      "text/html": [
       "<span style=\"color:#7E57C2\"><h2 style=\"font-size:16px\">Hyperparameters:</h2></span>"
      ],
      "text/plain": [
       "<IPython.core.display.HTML object>"
      ]
     },
     "metadata": {},
     "output_type": "display_data"
    },
    {
     "data": {
      "text/html": [
       "<span style=\"color:cyan\"> |-conv_1_units: 16</span>"
      ],
      "text/plain": [
       "<IPython.core.display.HTML object>"
      ]
     },
     "metadata": {},
     "output_type": "display_data"
    },
    {
     "data": {
      "text/html": [
       "<span style=\"color:blue\"> |-conv_2_units: 48</span>"
      ],
      "text/plain": [
       "<IPython.core.display.HTML object>"
      ]
     },
     "metadata": {},
     "output_type": "display_data"
    },
    {
     "data": {
      "text/html": [
       "<span style=\"color:cyan\"> |-conv_3_units: 16</span>"
      ],
      "text/plain": [
       "<IPython.core.display.HTML object>"
      ]
     },
     "metadata": {},
     "output_type": "display_data"
    },
    {
     "data": {
      "text/html": [
       "<span style=\"color:blue\"> |-input_1_units: 64</span>"
      ],
      "text/plain": [
       "<IPython.core.display.HTML object>"
      ]
     },
     "metadata": {},
     "output_type": "display_data"
    },
    {
     "data": {
      "text/html": [
       "<span style=\"color:cyan\"> |-input_2_units: 64</span>"
      ],
      "text/plain": [
       "<IPython.core.display.HTML object>"
      ]
     },
     "metadata": {},
     "output_type": "display_data"
    },
    {
     "data": {
      "text/html": [
       "<span style=\"color:blue\"> |-input_units: 32</span>"
      ],
      "text/plain": [
       "<IPython.core.display.HTML object>"
      ]
     },
     "metadata": {},
     "output_type": "display_data"
    },
    {
     "data": {
      "text/html": [
       "<span style=\"color:#4527A0\"><h1 style=\"font-size:18px\">Trial summary</h1></span>"
      ],
      "text/plain": [
       "<IPython.core.display.HTML object>"
      ]
     },
     "metadata": {},
     "output_type": "display_data"
    },
    {
     "data": {
      "text/html": [
       "<span style=\"color:cyan\"> |-Trial ID: 3096d06bf43841c1904309ea3d922d19</span>"
      ],
      "text/plain": [
       "<IPython.core.display.HTML object>"
      ]
     },
     "metadata": {},
     "output_type": "display_data"
    },
    {
     "data": {
      "text/html": [
       "<span style=\"color:cyan\"> |-Score: 0.9802882075309753</span>"
      ],
      "text/plain": [
       "<IPython.core.display.HTML object>"
      ]
     },
     "metadata": {},
     "output_type": "display_data"
    },
    {
     "data": {
      "text/html": [
       "<span style=\"color:cyan\"> |-Best step: 0</span>"
      ],
      "text/plain": [
       "<IPython.core.display.HTML object>"
      ]
     },
     "metadata": {},
     "output_type": "display_data"
    },
    {
     "data": {
      "text/html": [
       "<span style=\"color:#7E57C2\"><h2 style=\"font-size:16px\">Hyperparameters:</h2></span>"
      ],
      "text/plain": [
       "<IPython.core.display.HTML object>"
      ]
     },
     "metadata": {},
     "output_type": "display_data"
    },
    {
     "data": {
      "text/html": [
       "<span style=\"color:cyan\"> |-conv_1_units: 16</span>"
      ],
      "text/plain": [
       "<IPython.core.display.HTML object>"
      ]
     },
     "metadata": {},
     "output_type": "display_data"
    },
    {
     "data": {
      "text/html": [
       "<span style=\"color:blue\"> |-conv_2_units: 16</span>"
      ],
      "text/plain": [
       "<IPython.core.display.HTML object>"
      ]
     },
     "metadata": {},
     "output_type": "display_data"
    },
    {
     "data": {
      "text/html": [
       "<span style=\"color:cyan\"> |-conv_3_units: 16</span>"
      ],
      "text/plain": [
       "<IPython.core.display.HTML object>"
      ]
     },
     "metadata": {},
     "output_type": "display_data"
    },
    {
     "data": {
      "text/html": [
       "<span style=\"color:blue\"> |-input_1_units: 64</span>"
      ],
      "text/plain": [
       "<IPython.core.display.HTML object>"
      ]
     },
     "metadata": {},
     "output_type": "display_data"
    },
    {
     "data": {
      "text/html": [
       "<span style=\"color:cyan\"> |-input_2_units: 64</span>"
      ],
      "text/plain": [
       "<IPython.core.display.HTML object>"
      ]
     },
     "metadata": {},
     "output_type": "display_data"
    },
    {
     "data": {
      "text/html": [
       "<span style=\"color:blue\"> |-input_units: 80</span>"
      ],
      "text/plain": [
       "<IPython.core.display.HTML object>"
      ]
     },
     "metadata": {},
     "output_type": "display_data"
    }
   ],
   "source": [
    "#print(y_train)\n",
    "#for i in y_train:\n",
    "#    print(i)\n",
    "#print(X_train.shape)\n",
    "#print(image_labels)\n",
    "#print(y_train.shape)\n",
    "#print(X_train.dtype)\n",
    "#print(y_train.dtype)\n",
    "#X=X_train\n",
    "#X=tf.reshape(X, [-1,45,45,1])\n",
    "#for i in y_train:\n",
    "#    print(i)\n",
    "import tensorflow as tf\n",
    "\n",
    "\n",
    "\n",
    "import os\n",
    "if __name__ == '__main__':\n",
    "    os.environ['CUDA_DEVICE_ORDER'] = 'PCI_BUS_ID'\n",
    "    os.environ['CUDA_VISIBLE_DEVICES'] = '0'\n",
    "    os.environ['TF_FORCE_GPU_ALLOW_GROWTH'] = 'true'\n",
    "\n",
    "print(tf.config.list_physical_devices('GPU'))\n",
    "from kerastuner.tuners import RandomSearch\n",
    "from kerastuner.engine.hyperparameters import HyperParameters\n",
    "\n",
    "import time\n",
    "LOG_DIR = f\"{int(time.time())}\"\n",
    "\n",
    "def build_model(hp):  # random search passes this hyperparameter() object \n",
    "    model = tf.keras.models.Sequential()\n",
    "    \n",
    "    model.add(tf.keras.layers.Conv2D(hp.Int('conv_1_units', min_value=16,max_value=128, step=16)\n",
    "                        , (3, 3), input_shape=X_train.shape[1:]))\n",
    "    model.add(tf.keras.layers.Activation('relu'))\n",
    "    model.add(tf.keras.layers.MaxPooling2D(pool_size=(2, 2)))\n",
    "\n",
    "    model.add(tf.keras.layers.Conv2D(hp.Int('conv_2_units', min_value=16,max_value=128, step=16)\n",
    "                         , (3, 3)))\n",
    "    model.add(tf.keras.layers.Activation('relu'))\n",
    "    model.add(tf.keras.layers.MaxPooling2D(pool_size=(2, 2)))\n",
    "\n",
    "    model.add(tf.keras.layers.Conv2D(hp.Int('conv_3_units', min_value=16,max_value=128, step=16)\n",
    "                         , (3, 3)))\n",
    "    model.add(tf.keras.layers.Activation('relu'))\n",
    "    model.add(tf.keras.layers.MaxPooling2D(pool_size=(2, 2)))\n",
    "    \n",
    "    \n",
    "    model.add(tf.keras.layers.Flatten()) \n",
    "    \n",
    "    model.add(tf.keras.layers.Dense(hp.Int('input_1_units', min_value=64, max_value=256, step=64), activation=tf.nn.relu))\n",
    "    model.add(tf.keras.layers.Dense(hp.Int('input_2_units', min_value=64, max_value=256, step=64), activation=tf.nn.relu))\n",
    "    model.add(tf.keras.layers.Dense(10 + len(math_symbols), activation=tf.nn.softmax))\n",
    "\n",
    "    model.compile(optimizer=\"adam\",\n",
    "                  loss=\"sparse_categorical_crossentropy\",\n",
    "                  metrics=[\"accuracy\"])\n",
    "    \n",
    "    return model\n",
    "\n",
    "tuner = RandomSearch(\n",
    "    build_model,\n",
    "    objective='val_accuracy',\n",
    "    max_trials=10,  # how many model variations to test?\n",
    "    executions_per_trial=5,  # how many trials per variation? (same model could perform differently)\n",
    "    directory=os.path.normpath('C:/Users/eleeh/Documents'))\n",
    "              \n",
    "tuner.search(x=X_train,\n",
    "             y=y_train,\n",
    "            verbose = 2,\n",
    "            epochs=5,\n",
    "            validation_data=(X_test, y_test))\n",
    "tuner.results_summary()"
   ]
  },
  {
   "cell_type": "code",
   "execution_count": 24,
   "metadata": {},
   "outputs": [
    {
     "name": "stdout",
     "output_type": "stream",
     "text": [
      "Model: \"sequential\"\n",
      "_________________________________________________________________\n",
      "Layer (type)                 Output Shape              Param #   \n",
      "=================================================================\n",
      "conv2d (Conv2D)              (None, 43, 43, 32)        320       \n",
      "_________________________________________________________________\n",
      "activation (Activation)      (None, 43, 43, 32)        0         \n",
      "_________________________________________________________________\n",
      "max_pooling2d (MaxPooling2D) (None, 21, 21, 32)        0         \n",
      "_________________________________________________________________\n",
      "conv2d_1 (Conv2D)            (None, 19, 19, 128)       36992     \n",
      "_________________________________________________________________\n",
      "activation_1 (Activation)    (None, 19, 19, 128)       0         \n",
      "_________________________________________________________________\n",
      "max_pooling2d_1 (MaxPooling2 (None, 9, 9, 128)         0         \n",
      "_________________________________________________________________\n",
      "conv2d_2 (Conv2D)            (None, 7, 7, 112)         129136    \n",
      "_________________________________________________________________\n",
      "activation_2 (Activation)    (None, 7, 7, 112)         0         \n",
      "_________________________________________________________________\n",
      "max_pooling2d_2 (MaxPooling2 (None, 3, 3, 112)         0         \n",
      "_________________________________________________________________\n",
      "flatten (Flatten)            (None, 1008)              0         \n",
      "_________________________________________________________________\n",
      "dense (Dense)                (None, 256)               258304    \n",
      "_________________________________________________________________\n",
      "dense_1 (Dense)              (None, 192)               49344     \n",
      "_________________________________________________________________\n",
      "dense_2 (Dense)              (None, 13)                2509      \n",
      "=================================================================\n",
      "Total params: 476,605\n",
      "Trainable params: 476,605\n",
      "Non-trainable params: 0\n",
      "_________________________________________________________________\n"
     ]
    }
   ],
   "source": [
    "tuner.get_best_models()[0].summary()"
   ]
  },
  {
   "cell_type": "code",
   "execution_count": 22,
   "metadata": {
    "scrolled": true
   },
   "outputs": [
    {
     "name": "stdout",
     "output_type": "stream",
     "text": [
      "Train on 80091 samples\n",
      "Epoch 1/5\n",
      "80091/80091 [==============================] - 21s 268us/sample - loss: 2.0503 - accuracy: 0.6377\n",
      "Epoch 2/5\n",
      "80091/80091 [==============================] - 21s 260us/sample - loss: 1.8214 - accuracy: 0.8671\n",
      "Epoch 3/5\n",
      "80091/80091 [==============================] - 21s 264us/sample - loss: 1.7589 - accuracy: 0.9298\n",
      "Epoch 4/5\n",
      "80091/80091 [==============================] - 21s 264us/sample - loss: 1.7031 - accuracy: 0.9862\n",
      "Epoch 5/5\n",
      "80091/80091 [==============================] - 21s 268us/sample - loss: 1.7010 - accuracy: 0.9882\n"
     ]
    }
   ],
   "source": [
    "import os\n",
    "if __name__ == '__main__':\n",
    "    os.environ['CUDA_DEVICE_ORDER'] = 'PCI_BUS_ID'\n",
    "    os.environ['CUDA_VISIBLE_DEVICES'] = '0'\n",
    "    os.environ['TF_FORCE_GPU_ALLOW_GROWTH'] = 'true'\n",
    "    \n",
    "from tensorflow.python.client import device_lib\n",
    "#print(device_lib.list_local_devices())\n",
    "#print(tf.__version__)\n",
    "\n",
    "# conv2d output filters, kernal size\n",
    "model = tf.keras.Sequential([\n",
    "    tf.keras.layers.Conv2D(16, (3,3), padding='same', activation=tf.nn.relu,\n",
    "                           input_shape=X_train.shape[1:]),\n",
    "    tf.keras.layers.MaxPooling2D((2, 2), strides=2),\n",
    "    tf.keras.layers.Conv2D(32, (3,3), padding='same', activation=tf.nn.relu),\n",
    "    tf.keras.layers.MaxPooling2D((2, 2), strides=2),\n",
    "    tf.keras.layers.Conv2D(64, (3,3), padding='same', activation=tf.nn.relu),\n",
    "    tf.keras.layers.MaxPooling2D((2, 2), strides=2),\n",
    "    tf.keras.layers.Flatten(),\n",
    "    tf.keras.layers.Dense(128, activation=tf.nn.relu),\n",
    "    tf.keras.layers.Dense(128, activation=tf.nn.relu),\n",
    "    tf.keras.layers.Dense(10 + len(math_symbols), activation=tf.nn.softmax)\n",
    "])\n",
    "\n",
    "model.compile(optimizer='adam', loss=tf.keras.losses.SparseCategoricalCrossentropy(from_logits=True), metrics=['accuracy'])\n",
    "#print(model.summary())\n",
    "\n",
    "\n",
    "history = model.fit(X_train, y_train, verbose=1, epochs=5)"
   ]
  },
  {
   "cell_type": "code",
   "execution_count": 23,
   "metadata": {},
   "outputs": [
    {
     "data": {
      "text/plain": [
       "(0.5, 1.0)"
      ]
     },
     "execution_count": 23,
     "metadata": {},
     "output_type": "execute_result"
    },
    {
     "data": {
      "image/png": "[encoded data removed]",
      "text/plain": [
       "<Figure size 432x288 with 1 Axes>"
      ]
     },
     "metadata": {
      "needs_background": "light"
     },
     "output_type": "display_data"
    }
   ],
   "source": [
    "pyplot.plot(history.history['accuracy'], label='accuracy')\n",
    "pyplot.xlabel('Epoch')\n",
    "pyplot.ylabel('Accuracy')\n",
    "pyplot.ylim([0.5, 1])"
   ]
  },
  {
   "cell_type": "code",
   "execution_count": 24,
   "metadata": {},
   "outputs": [
    {
     "name": "stdout",
     "output_type": "stream",
     "text": [
      "20023/20023 [==============================] - 3s 169us/sample - loss: 1.6977 - accuracy: 0.9913\n",
      "1.697712933374786 0.99126005\n"
     ]
    }
   ],
   "source": [
    "\n",
    "\n",
    "val_loss, val_acc = model.evaluate(X_test, y_test)\n",
    "print(val_loss, val_acc)\n",
    "predictions = model.predict(X_test)"
   ]
  },
  {
   "cell_type": "code",
   "execution_count": 56,
   "metadata": {},
   "outputs": [
    {
     "name": "stdout",
     "output_type": "stream",
     "text": [
      "WARNING:tensorflow:From c:\\users\\eleeh\\anaconda3\\envs\\tensorflow\\lib\\site-packages\\tensorflow_core\\python\\ops\\resource_variable_ops.py:1786: calling BaseResourceVariable.__init__ (from tensorflow.python.ops.resource_variable_ops) with constraint is deprecated and will be removed in a future version.\n",
      "Instructions for updating:\n",
      "If using Keras pass *_constraint arguments to layers.\n",
      "INFO:tensorflow:Assets written to: math_reader_1.model\\assets\n"
     ]
    }
   ],
   "source": [
    "model.save('math_reader_2.model')"
   ]
  },
  {
   "cell_type": "code",
   "execution_count": 14,
   "metadata": {
    "scrolled": true
   },
   "outputs": [
    {
     "name": "stdout",
     "output_type": "stream",
     "text": [
      "1\n",
      "0\n"
     ]
    },
    {
     "data": {
      "image/png": "[encoded data removed]",
      "text/plain": [
       "<Figure size 432x288 with 1 Axes>"
      ]
     },
     "metadata": {
      "needs_background": "light"
     },
     "output_type": "display_data"
    },
    {
     "name": "stdout",
     "output_type": "stream",
     "text": [
      "1\n",
      "7\n"
     ]
    },
    {
     "data": {
      "image/png": "[encoded data removed]",
      "text/plain": [
       "<Figure size 432x288 with 1 Axes>"
      ]
     },
     "metadata": {
      "needs_background": "light"
     },
     "output_type": "display_data"
    },
    {
     "name": "stdout",
     "output_type": "stream",
     "text": [
      "1\n",
      "-\n"
     ]
    },
    {
     "data": {
      "image/png": "[encoded data removed]",
      "text/plain": [
       "<Figure size 432x288 with 1 Axes>"
      ]
     },
     "metadata": {
      "needs_background": "light"
     },
     "output_type": "display_data"
    },
    {
     "name": "stdout",
     "output_type": "stream",
     "text": [
      "1\n",
      "plus\n"
     ]
    },
    {
     "data": {
      "image/png": "[encoded data removed]",
      "text/plain": [
       "<Figure size 432x288 with 1 Axes>"
      ]
     },
     "metadata": {
      "needs_background": "light"
     },
     "output_type": "display_data"
    },
    {
     "name": "stdout",
     "output_type": "stream",
     "text": [
      "4\n",
      "1\n"
     ]
    },
    {
     "data": {
      "image/png": "[encoded data removed]",
      "text/plain": [
       "<Figure size 432x288 with 1 Axes>"
      ]
     },
     "metadata": {
      "needs_background": "light"
     },
     "output_type": "display_data"
    },
    {
     "name": "stdout",
     "output_type": "stream",
     "text": [
      "7\n",
      "3\n"
     ]
    },
    {
     "data": {
      "image/png": "[encoded data removed]",
      "text/plain": [
       "<Figure size 432x288 with 1 Axes>"
      ]
     },
     "metadata": {
      "needs_background": "light"
     },
     "output_type": "display_data"
    },
    {
     "name": "stdout",
     "output_type": "stream",
     "text": [
      "7\n",
      "3\n"
     ]
    },
    {
     "data": {
      "image/png": "[encoded data removed]",
      "text/plain": [
       "<Figure size 432x288 with 1 Axes>"
      ]
     },
     "metadata": {
      "needs_background": "light"
     },
     "output_type": "display_data"
    },
    {
     "name": "stdout",
     "output_type": "stream",
     "text": [
      "0\n",
      "9\n"
     ]
    },
    {
     "data": {
      "image/png": "[encoded data removed]",
      "text/plain": [
       "<Figure size 432x288 with 1 Axes>"
      ]
     },
     "metadata": {
      "needs_background": "light"
     },
     "output_type": "display_data"
    },
    {
     "name": "stdout",
     "output_type": "stream",
     "text": [
      "times\n",
      "8\n"
     ]
    },
    {
     "data": {
      "image/png": "[encoded data removed]",
      "text/plain": [
       "<Figure size 432x288 with 1 Axes>"
      ]
     },
     "metadata": {
      "needs_background": "light"
     },
     "output_type": "display_data"
    },
    {
     "name": "stdout",
     "output_type": "stream",
     "text": [
      "2\n",
      "times\n"
     ]
    },
    {
     "data": {
      "image/png": "[encoded data removed]",
      "text/plain": [
       "<Figure size 432x288 with 1 Axes>"
      ]
     },
     "metadata": {
      "needs_background": "light"
     },
     "output_type": "display_data"
    },
    {
     "name": "stdout",
     "output_type": "stream",
     "text": [
      "1\n",
      "4\n"
     ]
    },
    {
     "data": {
      "image/png": "[encoded data removed]",
      "text/plain": [
       "<Figure size 432x288 with 1 Axes>"
      ]
     },
     "metadata": {
      "needs_background": "light"
     },
     "output_type": "display_data"
    },
    {
     "name": "stdout",
     "output_type": "stream",
     "text": [
      "1\n",
      "6\n"
     ]
    },
    {
     "data": {
      "image/png": "[encoded data removed]",
      "text/plain": [
       "<Figure size 432x288 with 1 Axes>"
      ]
     },
     "metadata": {
      "needs_background": "light"
     },
     "output_type": "display_data"
    },
    {
     "name": "stdout",
     "output_type": "stream",
     "text": [
      "5\n",
      "2\n"
     ]
    },
    {
     "data": {
      "image/png": "[encoded data removed]",
      "text/plain": [
       "<Figure size 432x288 with 1 Axes>"
      ]
     },
     "metadata": {
      "needs_background": "light"
     },
     "output_type": "display_data"
    },
    {
     "name": "stdout",
     "output_type": "stream",
     "text": [
      "plus\n",
      "1\n"
     ]
    },
    {
     "data": {
      "image/png": "[encoded data removed]",
      "text/plain": [
       "<Figure size 432x288 with 1 Axes>"
      ]
     },
     "metadata": {
      "needs_background": "light"
     },
     "output_type": "display_data"
    },
    {
     "name": "stdout",
     "output_type": "stream",
     "text": [
      "7\n",
      "3\n"
     ]
    },
    {
     "data": {
      "image/png": "[encoded data removed]",
      "text/plain": [
       "<Figure size 432x288 with 1 Axes>"
      ]
     },
     "metadata": {
      "needs_background": "light"
     },
     "output_type": "display_data"
    },
    {
     "name": "stdout",
     "output_type": "stream",
     "text": [
      "9\n",
      "3\n"
     ]
    },
    {
     "data": {
      "image/png": "[encoded data removed]",
      "text/plain": [
       "<Figure size 432x288 with 1 Axes>"
      ]
     },
     "metadata": {
      "needs_background": "light"
     },
     "output_type": "display_data"
    },
    {
     "name": "stdout",
     "output_type": "stream",
     "text": [
      "2\n",
      "8\n"
     ]
    },
    {
     "data": {
      "image/png": "[encoded data removed]",
      "text/plain": [
       "<Figure size 432x288 with 1 Axes>"
      ]
     },
     "metadata": {
      "needs_background": "light"
     },
     "output_type": "display_data"
    },
    {
     "name": "stdout",
     "output_type": "stream",
     "text": [
      "plus\n",
      "4\n"
     ]
    },
    {
     "data": {
      "image/png": "[encoded data removed]",
      "text/plain": [
       "<Figure size 432x288 with 1 Axes>"
      ]
     },
     "metadata": {
      "needs_background": "light"
     },
     "output_type": "display_data"
    },
    {
     "name": "stdout",
     "output_type": "stream",
     "text": [
      "1\n",
      "plus\n"
     ]
    },
    {
     "data": {
      "image/png": "[encoded data removed]",
      "text/plain": [
       "<Figure size 432x288 with 1 Axes>"
      ]
     },
     "metadata": {
      "needs_background": "light"
     },
     "output_type": "display_data"
    },
    {
     "name": "stdout",
     "output_type": "stream",
     "text": [
      "1\n",
      "plus\n"
     ]
    },
    {
     "data": {
      "image/png": "[encoded data removed]",
      "text/plain": [
       "<Figure size 432x288 with 1 Axes>"
      ]
     },
     "metadata": {
      "needs_background": "light"
     },
     "output_type": "display_data"
    },
    {
     "name": "stdout",
     "output_type": "stream",
     "text": [
      "2\n",
      "3\n"
     ]
    },
    {
     "data": {
      "image/png": "[encoded data removed]",
      "text/plain": [
       "<Figure size 432x288 with 1 Axes>"
      ]
     },
     "metadata": {
      "needs_background": "light"
     },
     "output_type": "display_data"
    },
    {
     "name": "stdout",
     "output_type": "stream",
     "text": [
      "9\n",
      "3\n"
     ]
    },
    {
     "data": {
      "image/png": "[encoded data removed]",
      "text/plain": [
       "<Figure size 432x288 with 1 Axes>"
      ]
     },
     "metadata": {
      "needs_background": "light"
     },
     "output_type": "display_data"
    },
    {
     "name": "stdout",
     "output_type": "stream",
     "text": [
      "8\n",
      "6\n"
     ]
    },
    {
     "data": {
      "image/png": "[encoded data removed]",
      "text/plain": [
       "<Figure size 432x288 with 1 Axes>"
      ]
     },
     "metadata": {
      "needs_background": "light"
     },
     "output_type": "display_data"
    },
    {
     "name": "stdout",
     "output_type": "stream",
     "text": [
      "1\n",
      "plus\n"
     ]
    },
    {
     "data": {
      "image/png": "[encoded data removed]",
      "text/plain": [
       "<Figure size 432x288 with 1 Axes>"
      ]
     },
     "metadata": {
      "needs_background": "light"
     },
     "output_type": "display_data"
    },
    {
     "name": "stdout",
     "output_type": "stream",
     "text": [
      "9\n",
      "2\n"
     ]
    },
    {
     "data": {
      "image/png": "[encoded data removed]",
      "text/plain": [
       "<Figure size 432x288 with 1 Axes>"
      ]
     },
     "metadata": {
      "needs_background": "light"
     },
     "output_type": "display_data"
    },
    {
     "name": "stdout",
     "output_type": "stream",
     "text": [
      "1\n",
      "4\n"
     ]
    },
    {
     "data": {
      "image/png": "[encoded data removed]",
      "text/plain": [
       "<Figure size 432x288 with 1 Axes>"
      ]
     },
     "metadata": {
      "needs_background": "light"
     },
     "output_type": "display_data"
    },
    {
     "name": "stdout",
     "output_type": "stream",
     "text": [
      "0\n",
      "8\n"
     ]
    },
    {
     "data": {
      "image/png": "[encoded data removed]",
      "text/plain": [
       "<Figure size 432x288 with 1 Axes>"
      ]
     },
     "metadata": {
      "needs_background": "light"
     },
     "output_type": "display_data"
    },
    {
     "name": "stdout",
     "output_type": "stream",
     "text": [
      "1\n",
      "4\n"
     ]
    },
    {
     "data": {
      "image/png": "[encoded data removed]",
      "text/plain": [
       "<Figure size 432x288 with 1 Axes>"
      ]
     },
     "metadata": {
      "needs_background": "light"
     },
     "output_type": "display_data"
    },
    {
     "name": "stdout",
     "output_type": "stream",
     "text": [
      "1\n",
      "4\n"
     ]
    },
    {
     "data": {
      "image/png": "[encoded data removed]",
      "text/plain": [
       "<Figure size 432x288 with 1 Axes>"
      ]
     },
     "metadata": {
      "needs_background": "light"
     },
     "output_type": "display_data"
    },
    {
     "name": "stdout",
     "output_type": "stream",
     "text": [
      "1\n",
      "4\n"
     ]
    },
    {
     "data": {
      "image/png": "[encoded data removed]",
      "text/plain": [
       "<Figure size 432x288 with 1 Axes>"
      ]
     },
     "metadata": {
      "needs_background": "light"
     },
     "output_type": "display_data"
    },
    {
     "name": "stdout",
     "output_type": "stream",
     "text": [
      "4\n",
      "1\n"
     ]
    },
    {
     "data": {
      "image/png": "[encoded data removed]",
      "text/plain": [
       "<Figure size 432x288 with 1 Axes>"
      ]
     },
     "metadata": {
      "needs_background": "light"
     },
     "output_type": "display_data"
    },
    {
     "name": "stdout",
     "output_type": "stream",
     "text": [
      "2\n",
      "3\n"
     ]
    },
    {
     "data": {
      "image/png": "[encoded data removed]",
      "text/plain": [
       "<Figure size 432x288 with 1 Axes>"
      ]
     },
     "metadata": {
      "needs_background": "light"
     },
     "output_type": "display_data"
    }
   ],
   "source": [
    "for i in range(0,3000):\n",
    "    if class_labels[np.argmax(predictions[i])] != class_labels[y_test[i]]:\n",
    "        print(class_labels[np.argmax(predictions[i])])\n",
    "        print(class_labels[y_test[i]])\n",
    "        pyplot.imshow(tf.squeeze(X_test[i]))\n",
    "        pyplot.show()"
   ]
  },
  {
   "cell_type": "code",
   "execution_count": 25,
   "metadata": {},
   "outputs": [],
   "source": [
    "import winsound\n",
    "duration = 2000  # milliseconds\n",
    "freq = 440  # Hz\n",
    "winsound.Beep(freq, duration)\n"
   ]
  },
  {
   "cell_type": "code",
   "execution_count": 26,
   "metadata": {},
   "outputs": [
    {
     "data": {
      "application/vnd.jupyter.widget-view+json": {
       "model_id": "0b4893ca91dc4de7855a8469677f63b7",
       "version_major": 2,
       "version_minor": 0
      },
      "text/plain": [
       "IntProgress(value=0, max=12)"
      ]
     },
     "metadata": {},
     "output_type": "display_data"
    },
    {
     "data": {
      "image/png": "[encoded data removed]",
      "text/plain": [
       "<Figure size 432x288 with 1 Axes>"
      ]
     },
     "metadata": {
      "needs_background": "light"
     },
     "output_type": "display_data"
    },
    {
     "name": "stdout",
     "output_type": "stream",
     "text": [
      "5\n"
     ]
    },
    {
     "data": {
      "image/png": "[encoded data removed]",
      "text/plain": [
       "<Figure size 432x288 with 1 Axes>"
      ]
     },
     "metadata": {
      "needs_background": "light"
     },
     "output_type": "display_data"
    },
    {
     "name": "stdout",
     "output_type": "stream",
     "text": [
      "6\n"
     ]
    },
    {
     "data": {
      "image/png": "[encoded data removed]",
      "text/plain": [
       "<Figure size 432x288 with 1 Axes>"
      ]
     },
     "metadata": {
      "needs_background": "light"
     },
     "output_type": "display_data"
    },
    {
     "name": "stdout",
     "output_type": "stream",
     "text": [
      "1\n"
     ]
    },
    {
     "data": {
      "image/png": "[encoded data removed]",
      "text/plain": [
       "<Figure size 432x288 with 1 Axes>"
      ]
     },
     "metadata": {
      "needs_background": "light"
     },
     "output_type": "display_data"
    },
    {
     "name": "stdout",
     "output_type": "stream",
     "text": [
      "2\n"
     ]
    },
    {
     "data": {
      "image/png": "[encoded data removed]",
      "text/plain": [
       "<Figure size 432x288 with 1 Axes>"
      ]
     },
     "metadata": {
      "needs_background": "light"
     },
     "output_type": "display_data"
    },
    {
     "name": "stdout",
     "output_type": "stream",
     "text": [
      "6\n"
     ]
    },
    {
     "data": {
      "image/png": "[encoded data removed]",
      "text/plain": [
       "<Figure size 432x288 with 1 Axes>"
      ]
     },
     "metadata": {
      "needs_background": "light"
     },
     "output_type": "display_data"
    },
    {
     "name": "stdout",
     "output_type": "stream",
     "text": [
      "1\n"
     ]
    },
    {
     "data": {
      "image/png": "[encoded data removed]",
      "text/plain": [
       "<Figure size 432x288 with 1 Axes>"
      ]
     },
     "metadata": {
      "needs_background": "light"
     },
     "output_type": "display_data"
    },
    {
     "name": "stdout",
     "output_type": "stream",
     "text": [
      "8\n"
     ]
    },
    {
     "data": {
      "image/png": "[encoded data removed]",
      "text/plain": [
       "<Figure size 432x288 with 1 Axes>"
      ]
     },
     "metadata": {
      "needs_background": "light"
     },
     "output_type": "display_data"
    },
    {
     "name": "stdout",
     "output_type": "stream",
     "text": [
      "7\n"
     ]
    },
    {
     "data": {
      "image/png": "[encoded data removed]",
      "text/plain": [
       "<Figure size 432x288 with 1 Axes>"
      ]
     },
     "metadata": {
      "needs_background": "light"
     },
     "output_type": "display_data"
    },
    {
     "name": "stdout",
     "output_type": "stream",
     "text": [
      "3\n"
     ]
    },
    {
     "data": {
      "image/png": "[encoded data removed]",
      "text/plain": [
       "<Figure size 432x288 with 1 Axes>"
      ]
     },
     "metadata": {
      "needs_background": "light"
     },
     "output_type": "display_data"
    },
    {
     "name": "stdout",
     "output_type": "stream",
     "text": [
      "0\n"
     ]
    },
    {
     "data": {
      "image/png": "[encoded data removed]",
      "text/plain": [
       "<Figure size 432x288 with 1 Axes>"
      ]
     },
     "metadata": {
      "needs_background": "light"
     },
     "output_type": "display_data"
    },
    {
     "name": "stdout",
     "output_type": "stream",
     "text": [
      "-\n"
     ]
    },
    {
     "data": {
      "image/png": "[encoded data removed]",
      "text/plain": [
       "<Figure size 432x288 with 1 Axes>"
      ]
     },
     "metadata": {
      "needs_background": "light"
     },
     "output_type": "display_data"
    },
    {
     "name": "stdout",
     "output_type": "stream",
     "text": [
      "plus\n"
     ]
    }
   ],
   "source": [
    "from PIL import Image\n",
    "from os import listdir\n",
    "from matplotlib import image\n",
    "from matplotlib import pyplot\n",
    "import tensorflow as tf\n",
    "from ipywidgets import IntProgress\n",
    "from IPython.display import display\n",
    "import winsound\n",
    "import cv2\n",
    "import numpy as np\n",
    "\n",
    "# Use for testing with pictures put in testsymbols folder\n",
    "class_labels = ['0','1','2','3','4','5','6','7','8','9'] + ['plus','-','times']\n",
    "#model = tf.keras.models.load_model('math_reader_1.model')    # Here loads the model, make sure to turn off when not needed\n",
    "\n",
    "f = IntProgress(min=0, max=len(listdir('testsymbols')))\n",
    "display(f)\n",
    "test_images = list()\n",
    "for filename in listdir('testsymbols/'):\n",
    "    f.value +=1\n",
    "    img_data = cv2.imread('testsymbols/'+ filename)\n",
    "    #print(type(img_data))\n",
    "    img_data = cv2.resize(img_data, dsize=(45,45),interpolation=cv2.INTER_CUBIC)\n",
    "    img_data = cv2.cvtColor(img_data, cv2.COLOR_BGR2GRAY)\n",
    "    #print(img_data.shape)\n",
    "    test_images.append(img_data)\n",
    "    #print(symbol)\n",
    "    #pyplot.imshow(img_data)\n",
    "    #pyplot.show()\n",
    "test_images = tf.keras.utils.normalize(test_images, axis=1)\n",
    "test_images = tf.convert_to_tensor(test_images, dtype=tf.float32)\n",
    "test_images = tf.reshape(test_images, [-1,45,45,1])\n",
    "#print(test_images)\n",
    "\n",
    "test_labels = model.predict(test_images)\n",
    "#print(test_labels)\n",
    "labels = list()\n",
    "for i in range(0,len(test_images)):\n",
    "    labels.append(class_labels[np.argmax(test_labels[i])])\n",
    "    #print(test_labels[i])\n",
    "    pyplot.imshow(tf.squeeze(test_images[i]))\n",
    "    pyplot.show()\n",
    "    print(labels[i])\n",
    "#print(labels)\n",
    "#print(test_labels)\n"
   ]
  },
  {
   "cell_type": "code",
   "execution_count": 23,
   "metadata": {},
   "outputs": [
    {
     "name": "stdout",
     "output_type": "stream",
     "text": [
      "copy testsymbols\\231_289_62_128.png symbolsforanalyzer\\231_289_62_128_8.png\n",
      "copy testsymbols\\236_474_84_144.png symbolsforanalyzer\\236_474_84_144_6.png\n",
      "copy testsymbols\\251_131_16_116.png symbolsforanalyzer\\251_131_16_116_1.png\n",
      "copy testsymbols\\372_126_96_139.png symbolsforanalyzer\\372_126_96_139_2.png\n",
      "copy testsymbols\\378_286_63_128.png symbolsforanalyzer\\378_286_63_128_6.png\n",
      "copy testsymbols\\406_7_13_67.png symbolsforanalyzer\\406_7_13_67_1.png\n",
      "copy testsymbols\\407_472_61_140.png symbolsforanalyzer\\407_472_61_140_8.png\n",
      "copy testsymbols\\548_269_121_126.png symbolsforanalyzer\\548_269_121_126_7.png\n",
      "copy testsymbols\\551_132_66_127.png symbolsforanalyzer\\551_132_66_127_3.png\n",
      "copy testsymbols\\594_478_76_127.png symbolsforanalyzer\\594_478_76_127_0.png\n",
      "copy testsymbols\\70_428_673_45.png symbolsforanalyzer\\70_428_673_45_-.png\n",
      "copy testsymbols\\81_312_71_109.png symbolsforanalyzer\\81_312_71_109_plus.png\n"
     ]
    }
   ],
   "source": [
    "#adds label to filename\n",
    "from PIL import Image\n",
    "from os import listdir\n",
    "from matplotlib import image\n",
    "from matplotlib import pyplot\n",
    "import tensorflow as tf\n",
    "from ipywidgets import IntProgress\n",
    "from IPython.display import display\n",
    "import winsound\n",
    "import cv2\n",
    "import numpy as np\n",
    "import os\n",
    "\n",
    "# Use for testing with pictures put in testsymbols folder\n",
    "class_labels = ['0','1','2','3','4','5','6','7','8','9'] + ['plus','-','times']\n",
    "model = tf.keras.models.load_model('math_reader_1.model')    # Here loads the model, make sure to turn off when not needed\n",
    "\n",
    "test_images = list()\n",
    "for filename in listdir('testsymbols/'):\n",
    "    img_data = cv2.imread('testsymbols/'+ filename)\n",
    "    img_data = cv2.resize(img_data, dsize=(45,45),interpolation=cv2.INTER_CUBIC)\n",
    "    img_data = cv2.cvtColor(img_data, cv2.COLOR_BGR2GRAY)\n",
    "    test_images.append(img_data)\n",
    "test_images = tf.keras.utils.normalize(test_images, axis=1)\n",
    "test_images = tf.convert_to_tensor(test_images, dtype=tf.float32)\n",
    "test_images = tf.reshape(test_images, [-1,45,45,1])\n",
    "\n",
    "test_labels = model.predict(test_images)\n",
    "labels = list()\n",
    "for i in range(0,len(test_images)):\n",
    "    labels.append(class_labels[np.argmax(test_labels[i])])\n",
    "i = 0\n",
    "for filename in listdir('testsymbols/'):\n",
    "    prev_filename = 'testsymbols\\\\'+filename\n",
    "    post_filename = 'symbolsforanalyzer\\\\'+filename[:len(filename)-4]+'_'+labels[i]+'.png'\n",
    "    os.system('copy ' + prev_filename + ' ' + post_filename)\n",
    "    print('copy ' + prev_filename + ' ' + post_filename)\n",
    "    i += 1\n",
    "    "
   ]
  },
  {
   "cell_type": "code",
   "execution_count": null,
   "metadata": {},
   "outputs": [],
   "source": []
  }
 ],
 "metadata": {
  "kernelspec": {
   "display_name": "Python 3",
   "language": "python",
   "name": "python3"
  },
  "language_info": {
   "codemirror_mode": {
    "name": "ipython",
    "version": 3
   },
   "file_extension": ".py",
   "mimetype": "text/x-python",
   "name": "python",
   "nbconvert_exporter": "python",
   "pygments_lexer": "ipython3",
   "version": "3.7.7"
  }
 },
 "nbformat": 4,
 "nbformat_minor": 4
}
